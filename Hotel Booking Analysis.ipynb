{
  "nbformat": 4,
  "nbformat_minor": 0,
  "metadata": {
    "colab": {
      "private_outputs": true,
      "provenance": [],
      "collapsed_sections": [
        "vncDsAP0Gaoa",
        "FJNUwmbgGyua",
        "w6K7xa23Elo4",
        "yQaldy8SH6Dl",
        "PH-0ReGfmX4f",
        "mDgbUHAGgjLW",
        "O_i_v8NEhb9l",
        "HhfV-JJviCcP",
        "Y3lxredqlCYt",
        "3RnN4peoiCZX",
        "x71ZqKXriCWQ",
        "7hBIi_osiCS2",
        "JlHwYmJAmNHm",
        "35m5QtbWiB9F",
        "PoPl-ycgm1ru",
        "H0kj-8xxnORC",
        "nA9Y7ga8ng1Z",
        "PBTbrJXOngz2",
        "u3PMJOP6ngxN",
        "dauF4eBmngu3",
        "bKJF3rekwFvQ",
        "MSa1f5Uengrz",
        "GF8Ens_Soomf",
        "0wOQAZs5pc--",
        "K5QZ13OEpz2H",
        "lQ7QKXXCp7Bj",
        "448CDAPjqfQr",
        "KSlN3yHqYklG",
        "t6dVpIINYklI",
        "ijmpgYnKYklI",
        "-JiQyfWJYklI",
        "EM7whBJCYoAo",
        "fge-S5ZAYoAp",
        "85gYPyotYoAp",
        "RoGjAbkUYoAp",
        "4Of9eVA-YrdM",
        "iky9q4vBYrdO",
        "F6T5p64dYrdO",
        "y-Ehk30pYrdP",
        "bamQiAODYuh1",
        "QHF8YVU7Yuh3",
        "GwzvFGzlYuh3",
        "qYpmQ266Yuh3",
        "OH-pJp9IphqM",
        "bbFf2-_FphqN",
        "_ouA3fa0phqN",
        "Seke61FWphqN",
        "PIIx-8_IphqN",
        "t27r6nlMphqO",
        "r2jJGEOYphqO",
        "b0JNsNcRphqO",
        "BZR9WyysphqO",
        "jj7wYXLtphqO",
        "eZrbJ2SmphqO",
        "rFu4xreNphqO",
        "YJ55k-q6phqO",
        "gCFgpxoyphqP",
        "OVtJsKN_phqQ",
        "lssrdh5qphqQ",
        "U2RJ9gkRphqQ",
        "1M8mcRywphqQ",
        "tgIPom80phqQ",
        "JMzcOPDDphqR",
        "x-EpHcCOp1ci",
        "X_VqEhTip1ck",
        "8zGJKyg5p1ck",
        "PVzmfK_Ep1ck",
        "n3dbpmDWp1ck",
        "ylSl6qgtp1ck",
        "ZWILFDl5p1ck",
        "M7G43BXep1ck",
        "Ag9LCva-p1cl",
        "E6MkPsBcp1cl",
        "2cELzS2fp1cl",
        "3MPXvC8up1cl",
        "NC_X3p0fY2L0",
        "UV0SzAkaZNRQ",
        "YPEH6qLeZNRQ",
        "q29F0dvdveiT",
        "EXh0U9oCveiU",
        "22aHeOlLveiV",
        "JcMwzZxoAimU",
        "8G2x9gOozGDZ",
        "gCX9965dhzqZ",
        "gIfDvo9L0UH2"
      ],
      "include_colab_link": true
    },
    "kernelspec": {
      "name": "python3",
      "display_name": "Python 3"
    },
    "language_info": {
      "name": "python"
    }
  },
  "cells": [
    {
      "cell_type": "markdown",
      "metadata": {
        "id": "view-in-github",
        "colab_type": "text"
      },
      "source": [
        "<a href=\"https://colab.research.google.com/github/VikkasDs/Hotel-Booking-Analysis/blob/main/Hotel%20Booking%20Analysis.ipynb\" target=\"_parent\"><img src=\"https://colab.research.google.com/assets/colab-badge.svg\" alt=\"Open In Colab\"/></a>"
      ]
    },
    {
      "cell_type": "markdown",
      "source": [
        "# **Project Name**    -\n",
        "\n"
      ],
      "metadata": {
        "id": "vncDsAP0Gaoa"
      }
    },
    {
      "cell_type": "markdown",
      "source": [
        "##### **Project Type**    - EDA/Regression/Classification/Unsupervised\n",
        "##### **Contribution**    - Vikash Tiwari\n",
        "##### **Team Member 1 -**\n",
        "##### **Team Member 2 -**\n",
        "##### **Team Member 3 -**\n",
        "##### **Team Member 4 -**"
      ],
      "metadata": {
        "id": "beRrZCGUAJYm"
      }
    },
    {
      "cell_type": "markdown",
      "source": [
        "# **Project Summary -**"
      ],
      "metadata": {
        "id": "FJNUwmbgGyua"
      }
    },
    {
      "cell_type": "markdown",
      "source": [
        "\n",
        "\n",
        "*   There were 119390 rows & 32 columns in the actual dataset\n",
        "*   List item\n",
        "\n"
      ],
      "metadata": {
        "id": "F6v_1wHtG2nS"
      }
    },
    {
      "cell_type": "markdown",
      "source": [
        "# **GitHub Link -**"
      ],
      "metadata": {
        "id": "w6K7xa23Elo4"
      }
    },
    {
      "cell_type": "markdown",
      "source": [
        "Provide your GitHub Link here."
      ],
      "metadata": {
        "id": "h1o69JH3Eqqn"
      }
    },
    {
      "cell_type": "markdown",
      "source": [
        "# **Problem Statement**\n"
      ],
      "metadata": {
        "id": "yQaldy8SH6Dl"
      }
    },
    {
      "cell_type": "markdown",
      "source": [
        "Have you ever wondered when the best time of year to book a hotel room is? Or the optimal length of stay in order to get the best daily rate? What if you wanted to predict whether or not a hotel was likely to receive a disproportionately high number of special requests? This hotel booking dataset can help you explore those questions! This data set contains booking information for a city hotel and a resort hotel, and includes information such as when the booking was made, length of stay, the number of adults, children, and/or babies, and the number of available parking spaces, among other things. All personally identifying information has been removed from the data. Explore and analyze the data to discover important factors that govern the bookings."
      ],
      "metadata": {
        "id": "DpeJGUA3kjGy"
      }
    },
    {
      "cell_type": "markdown",
      "source": [
        "#### **Define Your Business Objective?**"
      ],
      "metadata": {
        "id": "PH-0ReGfmX4f"
      }
    },
    {
      "cell_type": "markdown",
      "source": [
        "Analysing the data of Resort & City Hotel to gain insights on various factors like Best time to book hotel, optimal length of stay to get best rates,time when hotels can expect maximum & minimum bookings,factors that lead to hotel cancellations"
      ],
      "metadata": {
        "id": "PhDvGCAqmjP1"
      }
    },
    {
      "cell_type": "markdown",
      "source": [
        "# **General Guidelines** : -  "
      ],
      "metadata": {
        "id": "mDgbUHAGgjLW"
      }
    },
    {
      "cell_type": "markdown",
      "source": [
        "1.   Well-structured, formatted, and commented code is required.\n",
        "2.   Exception Handling, Production Grade Code & Deployment Ready Code will be a plus. Those students will be awarded some additional credits.\n",
        "     \n",
        "     The additional credits will have advantages over other students during Star Student selection.\n",
        "       \n",
        "             [ Note: - Deployment Ready Code is defined as, the whole .ipynb notebook should be executable in one go\n",
        "                       without a single error logged. ]\n",
        "\n",
        "3.   Each and every logic should have proper comments.\n",
        "4. You may add as many number of charts you want. Make Sure for each and every chart the following format should be answered.\n",
        "        \n",
        "\n",
        "```\n",
        "# Chart visualization code\n",
        "```\n",
        "            \n",
        "\n",
        "*   Why did you pick the specific chart?\n",
        "*   What is/are the insight(s) found from the chart?\n",
        "* Will the gained insights help creating a positive business impact?\n",
        "Are there any insights that lead to negative growth? Justify with specific reason.\n",
        "\n",
        "5. You have to create at least 20 logical & meaningful charts having important insights.\n",
        "\n",
        "\n",
        "[ Hints : - Do the Vizualization in  a structured way while following \"UBM\" Rule.\n",
        "\n",
        "U - Univariate Analysis,\n",
        "\n",
        "B - Bivariate Analysis (Numerical - Categorical, Numerical - Numerical, Categorical - Categorical)\n",
        "\n",
        "M - Multivariate Analysis\n",
        " ]\n",
        "\n",
        "\n",
        "\n"
      ],
      "metadata": {
        "id": "ZrxVaUj-hHfC"
      }
    },
    {
      "cell_type": "markdown",
      "source": [
        "# ***Let's Begin !***"
      ],
      "metadata": {
        "id": "O_i_v8NEhb9l"
      }
    },
    {
      "cell_type": "markdown",
      "source": [
        "## ***1. Know Your Data***"
      ],
      "metadata": {
        "id": "HhfV-JJviCcP"
      }
    },
    {
      "cell_type": "markdown",
      "source": [
        "### Import Libraries"
      ],
      "metadata": {
        "id": "Y3lxredqlCYt"
      }
    },
    {
      "cell_type": "code",
      "source": [
        "# Import Libraries\n",
        "import numpy as np\n",
        "import pandas as pd\n",
        "import matplotlib.pyplot as plt\n",
        "import seaborn as sns\n",
        "from datetime import datetime\n",
        "%matplotlib inline\n",
        "import matplotlib.dates as mdates"
      ],
      "metadata": {
        "id": "M8Vqi-pPk-HR"
      },
      "execution_count": null,
      "outputs": []
    },
    {
      "cell_type": "markdown",
      "source": [
        "### Dataset Loading"
      ],
      "metadata": {
        "id": "3RnN4peoiCZX"
      }
    },
    {
      "cell_type": "code",
      "source": [
        "from google.colab import drive\n",
        "drive.mount('/content/drive')\n",
        "#Loading dataset\n",
        "data= '/content/drive/MyDrive/MODULE 2 CAPSTONE PROJECT/Hotel Bookings.csv'\n",
        "hotel_data_df= pd.read_csv(data)"
      ],
      "metadata": {
        "id": "4CkvbW_SlZ_R"
      },
      "execution_count": null,
      "outputs": []
    },
    {
      "cell_type": "markdown",
      "source": [
        "### Dataset First View"
      ],
      "metadata": {
        "id": "x71ZqKXriCWQ"
      }
    },
    {
      "cell_type": "code",
      "source": [
        "# Dataset First Look\n",
        "hotel_data_df"
      ],
      "metadata": {
        "id": "LWNFOSvLl09H"
      },
      "execution_count": null,
      "outputs": []
    },
    {
      "cell_type": "markdown",
      "source": [
        "### Dataset Rows & Columns count"
      ],
      "metadata": {
        "id": "7hBIi_osiCS2"
      }
    },
    {
      "cell_type": "code",
      "source": [
        "# Dataset Rows & Columns count\n",
        "rows, columns= hotel_data_df.shape\n",
        "print(f'there are {rows} Rows & {columns} Columns in this dataset')"
      ],
      "metadata": {
        "id": "Kllu7SJgmLij"
      },
      "execution_count": null,
      "outputs": []
    },
    {
      "cell_type": "markdown",
      "source": [
        "### Dataset Information"
      ],
      "metadata": {
        "id": "JlHwYmJAmNHm"
      }
    },
    {
      "cell_type": "code",
      "source": [
        "# Dataset Info\n",
        "hotel_data_df.info()\n",
        "# It is evident that Company column have 95% null values"
      ],
      "metadata": {
        "id": "e9hRXRi6meOf"
      },
      "execution_count": null,
      "outputs": []
    },
    {
      "cell_type": "markdown",
      "source": [
        "#### Duplicate Values"
      ],
      "metadata": {
        "id": "35m5QtbWiB9F"
      }
    },
    {
      "cell_type": "code",
      "source": [
        "# Dataset Duplicate Value Count\n",
        "duplicate = hotel_data_df.duplicated()"
      ],
      "metadata": {
        "id": "1sLdpKYkmox0"
      },
      "execution_count": null,
      "outputs": []
    },
    {
      "cell_type": "code",
      "source": [
        "duplicate"
      ],
      "metadata": {
        "id": "RgSlfy1amQyj"
      },
      "execution_count": null,
      "outputs": []
    },
    {
      "cell_type": "code",
      "source": [
        "duplicate_rows= hotel_data_df[duplicate]"
      ],
      "metadata": {
        "id": "zluxYivVoSca"
      },
      "execution_count": null,
      "outputs": []
    },
    {
      "cell_type": "code",
      "source": [
        "duplicate_rows"
      ],
      "metadata": {
        "id": "1CFu3uv2qktv"
      },
      "execution_count": null,
      "outputs": []
    },
    {
      "cell_type": "code",
      "source": [
        "#VISUALIZING DUPLICATE VALUES\n",
        "#setting plot size\n",
        "plt.figure(figsize=(8,7))\n",
        "\n",
        "#creating figure object\n",
        "colors = ['#FF0000', '#00FF00']\n",
        "sns.countplot(x=duplicate,palette=colors)\n",
        "#Setting Labels\n",
        "plt.xticks([0,1],[\"Non Duplicate Values\",\"Duplicate Values\"],fontsize=12)\n"
      ],
      "metadata": {
        "id": "jfQQ6djqtyUI"
      },
      "execution_count": null,
      "outputs": []
    },
    {
      "cell_type": "markdown",
      "source": [
        "#### Missing Values/Null Values"
      ],
      "metadata": {
        "id": "PoPl-ycgm1ru"
      }
    },
    {
      "cell_type": "code",
      "source": [
        "# Missing Values/Null Values Count\n",
        "missing_values= hotel_data_df.isnull().sum().sort_values(ascending=False)\n",
        "missing_values"
      ],
      "metadata": {
        "id": "GgHWkxvamxVg"
      },
      "execution_count": null,
      "outputs": []
    },
    {
      "cell_type": "code",
      "source": [
        "# Visualizing the missing values\n",
        "#setting the plot size\n",
        "plt.figure(figsize=(10,7))\n",
        "\n",
        "#creating figure object\n",
        "sns.heatmap(hotel_data_df.isnull().corr(),vmin=-1, annot= True)\n",
        "# setting labels\n",
        "plt.title('Missing Values',fontsize=15)\n",
        "plt.xlabel(xlabel='Columns',fontsize=12)\n",
        "plt.ylabel(ylabel='Rows',fontsize=12)"
      ],
      "metadata": {
        "id": "3q5wnI3om9sJ"
      },
      "execution_count": null,
      "outputs": []
    },
    {
      "cell_type": "markdown",
      "source": [
        "### What did you know about your dataset?"
      ],
      "metadata": {
        "id": "H0kj-8xxnORC"
      }
    },
    {
      "cell_type": "markdown",
      "source": [
        "1.There are total 119390 Rows & 32 Columns in this dataset.                         \n",
        "2.Company column has 94% Null data & agent column has 14% Null data.Country column has only .4% null data & children column has only 4 null data.                        \n",
        "3.There are 4 types of meal booked BB,FB,HB,SC                                         \n",
        "4.There are total 31994 missing values\n"
      ],
      "metadata": {
        "id": "8NztVXDTzzaJ"
      }
    },
    {
      "cell_type": "markdown",
      "source": [
        "## ***2. Understanding Your Variables***"
      ],
      "metadata": {
        "id": "nA9Y7ga8ng1Z"
      }
    },
    {
      "cell_type": "code",
      "source": [
        "# Dataset Columns\n",
        "hotel_data_df.columns"
      ],
      "metadata": {
        "id": "j7xfkqrt5Ag5"
      },
      "execution_count": null,
      "outputs": []
    },
    {
      "cell_type": "code",
      "source": [
        "# Dataset Describe\n",
        "hotel_data_df.describe()"
      ],
      "metadata": {
        "id": "DnOaZdaE5Q5t"
      },
      "execution_count": null,
      "outputs": []
    },
    {
      "cell_type": "markdown",
      "source": [
        "1. **hotel :** Name of the hotel (Resort Hotel or City Hotel)\n",
        "\n",
        "2. **is_canceled :** If the booking was canceled (1) or not (0)\n",
        "\n",
        "3. **lead_time:** Number of days before the actual arrival of the guests\n",
        "\n",
        "4. **arrival_date_year :** Year of arrival date\n",
        "\n",
        "5. **arrival_date_month :** Month of arrival date\n",
        "\n",
        "6. **arrival_date_week_number :** Week number of year for arrival date\n",
        "\n",
        "7. **arrival_date_day_of_month :** Day of arrival date\n",
        "\n",
        "8. **stays_in_weekend_nights :** Number of weekend nights (Saturday or Sunday) spent at the hotel by the guests.\n",
        "\n",
        "9. **stays_in_week_nights :** Number of weeknights (Monday to Friday) spent at the hotel by the guests.\n",
        "\n",
        "10. **adults :** Number of adults among guests\n",
        "\n",
        "11. **children :** Number of children among guests\n",
        "\n",
        "12. **babies :** Number of babies among guests\n",
        "\n",
        "13. **meal :** Type of meal booked\n",
        "\n",
        "14. **country :** Country of guests\n",
        "\n",
        "15. **market_segment :** Designation of market segment\n",
        "\n",
        "16. **distribution_channel :** Name of booking distribution channel\n",
        "\n",
        "17. **is_repeated_guest :** If the booking was from a repeated guest (1) or not (0)\n",
        "\n",
        "18. **previous_cancellations :** Number of previous bookings that were cancelled by the customer prior to the current booking\n",
        "\n",
        "19. **previous_bookings_not_canceled :** Number of previous bookings not cancelled by the customer prior to the current booking\n",
        "\n",
        "20. **reserved_room_type :** Code of room type reserved\n",
        "\n",
        "21. **assigned_room_type :** Code of room type assigned\n",
        "\n",
        "22. **booking_changes :** Number of changes/amendments made to the booking\n",
        "\n",
        "23. **deposit_type :** Type of the deposit made by the guest\n",
        "\n",
        "24. **agent :** ID of travel agent who made the booking\n",
        "\n",
        "25. **company :** ID of the company that made the booking\n",
        "\n",
        "26. **days_in_waiting_list :** Number of days the booking was in the waiting list\n",
        "\n",
        "27. **customer_type :** Type of customer, assuming one of four categories\n",
        "\n",
        "28. **adr :** Average Daily Rate, as defined by dividing the sum of all lodging transactions by the total number of staying nights\n",
        "\n",
        "29. **required_car_parking_spaces :** Number of car parking spaces required by the customer\n",
        "\n",
        "30. **total_of_special_requests :** Number of special requests made by the customer\n",
        "\n",
        "31. **reservation_status :** reservation_status (Canceled, Check-Out or No-Show)\n",
        "\n",
        "32. **reservation_status_date :** Date at which the last reservation_status was updated"
      ],
      "metadata": {
        "id": "PBTbrJXOngz2"
      }
    },
    {
      "cell_type": "markdown",
      "source": [
        "Answer Here"
      ],
      "metadata": {
        "id": "aJV4KIxSnxay"
      }
    },
    {
      "cell_type": "markdown",
      "source": [
        "### Check Unique Values for each variable."
      ],
      "metadata": {
        "id": "u3PMJOP6ngxN"
      }
    },
    {
      "cell_type": "code",
      "source": [
        "# Check Unique Values for each variable.\n",
        "for elements in hotel_data_df.columns:\n",
        "  print('No of Unique values in',elements,'column is',hotel_data_df[elements].nunique())\n",
        "\n",
        "##Here element represents each column"
      ],
      "metadata": {
        "id": "zms12Yq5n-jE"
      },
      "execution_count": null,
      "outputs": []
    },
    {
      "cell_type": "code",
      "source": [
        "# Checking Unique Values in categorical columns one by one\n",
        "# Checking Unique Values in Hotel column\n",
        "hotel_data_df['hotel'].unique()"
      ],
      "metadata": {
        "id": "35r5gbNKCcKm"
      },
      "execution_count": null,
      "outputs": []
    },
    {
      "cell_type": "code",
      "source": [
        "# Checking Unique Values in is_canceled column\n",
        "hotel_data_df['is_canceled'].unique()"
      ],
      "metadata": {
        "id": "2u_HhJ0CCpYB"
      },
      "execution_count": null,
      "outputs": []
    },
    {
      "cell_type": "code",
      "source": [
        "# Checking Unique Values in lead_time column\n",
        "hotel_data_df['lead_time'].unique()"
      ],
      "metadata": {
        "id": "3pawEVooD9Ha"
      },
      "execution_count": null,
      "outputs": []
    },
    {
      "cell_type": "code",
      "source": [
        "# Checking Unique Values in arrival_date_year column\n",
        "hotel_data_df['arrival_date_year'].unique()"
      ],
      "metadata": {
        "id": "gKc_Wr5aECIQ"
      },
      "execution_count": null,
      "outputs": []
    },
    {
      "cell_type": "code",
      "source": [
        "# Checking Unique Values in arrival_date_month column\n",
        "hotel_data_df['arrival_date_month'].unique()"
      ],
      "metadata": {
        "id": "hsZpk_BmEJyE"
      },
      "execution_count": null,
      "outputs": []
    },
    {
      "cell_type": "code",
      "source": [
        "# Checking Unique Values in arrival_date_week_number column\n",
        "hotel_data_df['arrival_date_week_number'].unique()"
      ],
      "metadata": {
        "id": "PqivaRLJESUd"
      },
      "execution_count": null,
      "outputs": []
    },
    {
      "cell_type": "code",
      "source": [
        "# Checking Unique Values in meal column\n",
        "hotel_data_df['meal'].unique()"
      ],
      "metadata": {
        "id": "-b5urcJ5Eo4D"
      },
      "execution_count": null,
      "outputs": []
    },
    {
      "cell_type": "code",
      "source": [
        "# Checking Unique Values in country column\n",
        "hotel_data_df['country'].unique()"
      ],
      "metadata": {
        "id": "mN13wmfTE_R3"
      },
      "execution_count": null,
      "outputs": []
    },
    {
      "cell_type": "code",
      "source": [
        "# Checking Unique Values in market_segment column\n",
        "hotel_data_df['market_segment'].unique()"
      ],
      "metadata": {
        "id": "0Q6ocGKkFWH2"
      },
      "execution_count": null,
      "outputs": []
    },
    {
      "cell_type": "code",
      "source": [
        "# Checking Unique Values in distribution_channel column\n",
        "hotel_data_df['distribution_channel'].unique()"
      ],
      "metadata": {
        "id": "BWjt7I3ZFttc"
      },
      "execution_count": null,
      "outputs": []
    },
    {
      "cell_type": "code",
      "source": [
        "# Checking Unique Values in reserved_room_type column\n",
        "hotel_data_df['reserved_room_type'].unique()"
      ],
      "metadata": {
        "id": "pLYCEYKjF1kV"
      },
      "execution_count": null,
      "outputs": []
    },
    {
      "cell_type": "code",
      "source": [
        "#Checking Unique Values in deposit_type column\n",
        "hotel_data_df['deposit_type'].unique()"
      ],
      "metadata": {
        "id": "sI7OjX71GLX3"
      },
      "execution_count": null,
      "outputs": []
    },
    {
      "cell_type": "code",
      "source": [
        "# Checking Unique Values in customer_type column\n",
        "hotel_data_df['customer_type'].unique()"
      ],
      "metadata": {
        "id": "Wcp0cyryGW4X"
      },
      "execution_count": null,
      "outputs": []
    },
    {
      "cell_type": "code",
      "source": [
        "# Checking Unique Values in reservation_status column\n",
        "hotel_data_df['reservation_status'].unique()"
      ],
      "metadata": {
        "id": "zGyMMn_785HV"
      },
      "execution_count": null,
      "outputs": []
    },
    {
      "cell_type": "code",
      "source": [
        "# Checking Unique Values in reservation_status_date column\n",
        "hotel_data_df['reservation_status_date'].unique()"
      ],
      "metadata": {
        "id": "t-BtntkE89on"
      },
      "execution_count": null,
      "outputs": []
    },
    {
      "cell_type": "markdown",
      "source": [
        "## 3. ***Data Wrangling***"
      ],
      "metadata": {
        "id": "dauF4eBmngu3"
      }
    },
    {
      "cell_type": "markdown",
      "source": [
        "### Data Wrangling Code"
      ],
      "metadata": {
        "id": "bKJF3rekwFvQ"
      }
    },
    {
      "cell_type": "code",
      "source": [
        "# Write your code to make your dataset analysis ready.\n",
        "#Missing values\n",
        "hotel_data_df.isnull().sum().sort_values(ascending=False)[:8]"
      ],
      "metadata": {
        "id": "wk-9a2fpoLcV"
      },
      "execution_count": null,
      "outputs": []
    },
    {
      "cell_type": "code",
      "source": [
        "#replacing null values of company,agent,children with 0\n",
        "hotel_data_df[['company','agent','children']]=hotel_data_df[['company','agent','children']].fillna(0)"
      ],
      "metadata": {
        "id": "bmATdCUwyE-W"
      },
      "execution_count": null,
      "outputs": []
    },
    {
      "cell_type": "code",
      "source": [
        "#replacing null values of country column with Others\n",
        "hotel_data_df['country']=hotel_data_df['country'].fillna('Others')"
      ],
      "metadata": {
        "id": "kwx-08VOyge5"
      },
      "execution_count": null,
      "outputs": []
    },
    {
      "cell_type": "code",
      "source": [
        "#checking for anymore left null data\n",
        "hotel_data_df.isnull().sum().sort_values(ascending=False)[:8]"
      ],
      "metadata": {
        "id": "cE1hK087ysw1"
      },
      "execution_count": null,
      "outputs": []
    },
    {
      "cell_type": "code",
      "source": [
        "#So now no more null values are there in the dataset\n",
        "#now checking which columns have 0 output\n",
        "hotel_data_df['sum']= hotel_data_df[['children','babies','adults']].sum(axis=1)\n",
        "hotel_data_df['sum']"
      ],
      "metadata": {
        "id": "yV9-7ASay4Uk"
      },
      "execution_count": null,
      "outputs": []
    },
    {
      "cell_type": "code",
      "source": [
        "cout_zerooutput_columns= (hotel_data_df['sum']==0).sum()\n",
        "cout_zerooutput_columns"
      ],
      "metadata": {
        "id": "_V7KQTXC3gO5"
      },
      "execution_count": null,
      "outputs": []
    },
    {
      "cell_type": "code",
      "source": [
        "#dropping these 180 rows where output of all rows combined is 0\n",
        "hotel_data_df.drop(hotel_data_df[hotel_data_df['sum']==0].index,inplace=True)"
      ],
      "metadata": {
        "id": "v9nT4Zux5uUu"
      },
      "execution_count": null,
      "outputs": []
    },
    {
      "cell_type": "code",
      "source": [
        "#checking for anymore leftout 0 output rows\n",
        "cout_zerooutput_columns= (hotel_data_df['sum']==0).sum()\n",
        "cout_zerooutput_columns"
      ],
      "metadata": {
        "id": "1m2xEuEb6Kdo"
      },
      "execution_count": null,
      "outputs": []
    },
    {
      "cell_type": "code",
      "source": [
        "#checking left over null values in company column\n",
        "hotel_data_df['company'].isnull().sum()"
      ],
      "metadata": {
        "id": "Ad-vI5yBAUJ_"
      },
      "execution_count": null,
      "outputs": []
    },
    {
      "cell_type": "code",
      "source": [
        "hotel_data_df.shape"
      ],
      "metadata": {
        "id": "1_44M5jFA0Zx"
      },
      "execution_count": null,
      "outputs": []
    },
    {
      "cell_type": "code",
      "source": [
        "#deleting duplicate rows\n",
        "#for this we would use the drop_duplicates() method.\n",
        "df_without_duplicates= hotel_data_df.drop_duplicates()\n",
        "df_without_duplicates.shape\n",
        "df_without_duplicates.columns"
      ],
      "metadata": {
        "id": "4HtAnxwHBaht"
      },
      "execution_count": null,
      "outputs": []
    },
    {
      "cell_type": "code",
      "source": [
        "#We would merge the 2 columns babies & Children to ease calculation\n",
        "df_without_duplicates['total_kids']= df_without_duplicates[['children','babies']].sum(axis=1)"
      ],
      "metadata": {
        "id": "AcUXA_HaB9zw"
      },
      "execution_count": null,
      "outputs": []
    },
    {
      "cell_type": "code",
      "source": [
        "#now that total kids column have been calculated, we would remove babies & children column\n",
        "df_without_duplicates.drop(['babies','children'],axis=1,inplace=True)\n",
        "df_without_duplicates.shape"
      ],
      "metadata": {
        "id": "C4Hd3aknCj55"
      },
      "execution_count": null,
      "outputs": []
    },
    {
      "cell_type": "code",
      "source": [
        "df_without_duplicates.columns"
      ],
      "metadata": {
        "id": "GJH1zVq5h7iV"
      },
      "execution_count": null,
      "outputs": []
    },
    {
      "cell_type": "code",
      "source": [
        "# sum column was made to remove null values in totals of adults,kids  children. Now that it is done, we can drop sum column\n",
        "df_without_duplicates.drop('sum',axis=1,inplace=True)"
      ],
      "metadata": {
        "id": "HMcDAD1OiKrj"
      },
      "execution_count": null,
      "outputs": []
    },
    {
      "cell_type": "code",
      "source": [
        "#checking whether the sum column is dropped or not\n",
        "df_without_duplicates.columns\n",
        "df_without_duplicates.shape"
      ],
      "metadata": {
        "id": "zsvhgmezinyv"
      },
      "execution_count": null,
      "outputs": []
    },
    {
      "cell_type": "markdown",
      "source": [
        "**<h1>CONVERTING DATA TYPES AS FEW COLUMNS HAD WRONG DATA TYPE SELECTED**"
      ],
      "metadata": {
        "id": "kEhmrbtCk7B0"
      }
    },
    {
      "cell_type": "code",
      "source": [
        "df_without_duplicates.info()"
      ],
      "metadata": {
        "id": "CbPf1k-elhCf"
      },
      "execution_count": null,
      "outputs": []
    },
    {
      "cell_type": "code",
      "source": [
        "#reservation_status date is of Object Datatype. So, changing it\n",
        "df_without_duplicates[\"reservation_status_date\"] = pd.to_datetime(df_without_duplicates[\"reservation_status_date\"],format='%Y-%m-%d')"
      ],
      "metadata": {
        "id": "KJGCZT5zl39h"
      },
      "execution_count": null,
      "outputs": []
    },
    {
      "cell_type": "code",
      "source": [
        "df_without_duplicates.info()"
      ],
      "metadata": {
        "id": "p5T81uVCJneC"
      },
      "execution_count": null,
      "outputs": []
    },
    {
      "cell_type": "markdown",
      "source": [
        "**<h1>Adding Total Stay Column**"
      ],
      "metadata": {
        "id": "5_4-y3SNJ5Vx"
      }
    },
    {
      "cell_type": "code",
      "source": [
        "df_without_duplicates['total_Stay']= df_without_duplicates['stays_in_weekend_nights']+df_without_duplicates['stays_in_week_nights']"
      ],
      "metadata": {
        "id": "-xgFDSVpJ3_6"
      },
      "execution_count": null,
      "outputs": []
    },
    {
      "cell_type": "code",
      "source": [
        "# removing weekend & week nights columns\n",
        "df_without_duplicates.drop(['stays_in_weekend_nights','stays_in_week_nights'],axis=1,inplace=True)"
      ],
      "metadata": {
        "id": "hcdx2VkSMBtX"
      },
      "execution_count": null,
      "outputs": []
    },
    {
      "cell_type": "markdown",
      "source": [
        "### What all manipulations have you done and insights you found?"
      ],
      "metadata": {
        "id": "MSa1f5Uengrz"
      }
    },
    {
      "cell_type": "markdown",
      "source": [
        "<h1>Following Manipulations have been done:           \n",
        "\n",
        "1. Reservation_status_date column data type have been changed to datetime from object\n",
        "\n",
        "2. New column named **Total_stay** have been created adding weekend & week night stays column. Subsequently, these two columns have been dropped then.\n",
        "3.New column total_kids have been created adding babies & children column. Subsequently babies & children have been dropped after that.\n",
        "4.We dropped 180 rows from adults, babies & children column as there were having 0 values\n",
        "5.We found company column had 94% missing values, agent column had 14% missing values,country column had 488 null values & babies column had 4 null values.Company,babies,agent column null values were replacd by 0 & country column missing values were replaced by Others\n",
        "6.There were 31980 duplicate values in this dataset. All of them were dropped."
      ],
      "metadata": {
        "id": "h7dptbAUMdHh"
      }
    },
    {
      "cell_type": "markdown",
      "source": [
        "Answer Here."
      ],
      "metadata": {
        "id": "LbyXE7I1olp8"
      }
    },
    {
      "cell_type": "markdown",
      "source": [
        "## ***4. Data Vizualization, Storytelling & Experimenting with charts : Understand the relationships between variables***"
      ],
      "metadata": {
        "id": "GF8Ens_Soomf"
      }
    },
    {
      "cell_type": "markdown",
      "source": [
        "<h1>UNIVARIATE ANALYSIS"
      ],
      "metadata": {
        "id": "_PIihGKM-qPh"
      }
    },
    {
      "cell_type": "markdown",
      "source": [
        "#### Chart - 1) Distribution of Different Meal Types"
      ],
      "metadata": {
        "id": "0wOQAZs5pc--"
      }
    },
    {
      "cell_type": "code",
      "source": [
        "# Chart - 1 visualization code\n",
        "# Visualization for Distribution of Different Meal Types\n",
        "plt.figure(figsize=(10, 6))\n",
        "sns.countplot(data=df_without_duplicates, x='meal', palette='viridis')\n",
        "plt.title('Distribution of Different Meal Types')\n",
        "plt.xlabel('Meal Type')\n",
        "plt.ylabel('Count')\n",
        "\n",
        "# Add labels on top of each bar\n",
        "for p in sns.countplot(data=df_without_duplicates, x='meal', palette='viridis').patches:\n",
        "    plt.annotate(f'{p.get_height()}', (p.get_x() + p.get_width() / 2., p.get_height()),\n",
        "                 ha='center', va='center', xytext=(0, 10), textcoords='offset points')\n",
        "\n",
        "plt.show()\n"
      ],
      "metadata": {
        "id": "7v_ESjsspbW7"
      },
      "execution_count": null,
      "outputs": []
    },
    {
      "cell_type": "markdown",
      "source": [
        "##### 1. Why did you pick the specific chart?"
      ],
      "metadata": {
        "id": "K5QZ13OEpz2H"
      }
    },
    {
      "cell_type": "markdown",
      "source": [
        "A count plot is chosen because it effectively displays the frequency of each meal type in the dataset, providing a clear understanding of how often each meal type is chosen by guests."
      ],
      "metadata": {
        "id": "XESiWehPqBRc"
      }
    },
    {
      "cell_type": "markdown",
      "source": [
        "##### 2. What is/are the insight(s) found from the chart?"
      ],
      "metadata": {
        "id": "lQ7QKXXCp7Bj"
      }
    },
    {
      "cell_type": "markdown",
      "source": [
        "This chart will reveal which meal types are most and least popular among hotel guests. It helps to identify the distribution of preferences for different meal plans."
      ],
      "metadata": {
        "id": "C_j1G7yiqdRP"
      }
    },
    {
      "cell_type": "markdown",
      "source": [
        "##### 3. Will the gained insights help creating a positive business impact?\n",
        "Are there any insights that lead to negative growth? Justify with specific reason."
      ],
      "metadata": {
        "id": "448CDAPjqfQr"
      }
    },
    {
      "cell_type": "markdown",
      "source": [
        "Yes, the insights will help the hotel management to optimize their meal offerings, ensuring they cater to the preferences of the majority of their guests, which can enhance guest satisfaction and operational efficiency.\n",
        "\n",
        "**Are there any insights that lead to negative growth? Justify with specific reasons.**\n",
        "\n",
        "If a particular meal type is rarely chosen, it may indicate that the meal is not meeting guest expectations or is priced incorrectly. Addressing these issues can prevent potential negative impacts on guest satisfaction and revenue."
      ],
      "metadata": {
        "id": "3cspy4FjqxJW"
      }
    },
    {
      "cell_type": "markdown",
      "source": [
        "#### Chart - 2) Frequency of Different Market Segments"
      ],
      "metadata": {
        "id": "KSlN3yHqYklG"
      }
    },
    {
      "cell_type": "code",
      "source": [
        "# Chart - 2 visualization code\n",
        "# Visualization for Frequency of Different Market Segments with Labels\n",
        "\n",
        "plt.figure(figsize=(12, 6))\n",
        "ax = sns.countplot(data=df_without_duplicates, x='market_segment', hue='market_segment', palette='viridis', legend=False)\n",
        "plt.title('Frequency of Different Market Segments')\n",
        "plt.xlabel('Market Segment')\n",
        "plt.ylabel('Count')\n",
        "\n",
        "# Add labels on top of each bar\n",
        "for p in ax.patches:\n",
        "    ax.annotate(f'{p.get_height()}', (p.get_x() + p.get_width() / 2., p.get_height()),\n",
        "                ha='center', va='center', xytext=(0, 10), textcoords='offset points')\n",
        "\n",
        "plt.show()\n",
        "\n"
      ],
      "metadata": {
        "id": "R4YgtaqtYklH"
      },
      "execution_count": null,
      "outputs": []
    },
    {
      "cell_type": "markdown",
      "source": [
        "##### 1. Why did you pick the specific chart?"
      ],
      "metadata": {
        "id": "t6dVpIINYklI"
      }
    },
    {
      "cell_type": "markdown",
      "source": [
        "A count plot is chosen because it effectively displays the frequency of each market segment in the dataset, providing a clear understanding of how often each market segment is used by guests."
      ],
      "metadata": {
        "id": "5aaW0BYyYklI"
      }
    },
    {
      "cell_type": "markdown",
      "source": [
        "##### 2. What is/are the insight(s) found from the chart?"
      ],
      "metadata": {
        "id": "ijmpgYnKYklI"
      }
    },
    {
      "cell_type": "markdown",
      "source": [
        "This chart will reveal which market segments are most and least popular among hotel guests. It helps to identify the distribution of guests across different market segments."
      ],
      "metadata": {
        "id": "PSx9atu2YklI"
      }
    },
    {
      "cell_type": "markdown",
      "source": [
        "##### 3. Will the gained insights help creating a positive business impact?\n",
        "Are there any insights that lead to negative growth? Justify with specific reason."
      ],
      "metadata": {
        "id": "-JiQyfWJYklI"
      }
    },
    {
      "cell_type": "markdown",
      "source": [
        "Yes, the insights will help the hotel management to optimize their marketing strategies, focusing on the most popular segments while also identifying opportunities to attract guests from less popular segments."
      ],
      "metadata": {
        "id": "BcBbebzrYklV"
      }
    },
    {
      "cell_type": "markdown",
      "source": [
        "#### Chart - 3"
      ],
      "metadata": {
        "id": "EM7whBJCYoAo"
      }
    },
    {
      "cell_type": "code",
      "source": [
        "# Chart - 3 visualization code\n",
        "# Visualization for Frequency of Different Distribution Channels with Labels\n",
        "\n",
        "plt.figure(figsize=(12, 6))\n",
        "ax = sns.countplot(data=df_without_duplicates, x='distribution_channel', hue='distribution_channel', palette='viridis', legend=False)\n",
        "plt.title('Frequency of Different Distribution Channels')\n",
        "plt.xlabel('Distribution Channel')\n",
        "plt.ylabel('Count')\n",
        "\n",
        "# Add labels on top of each bar\n",
        "for p in ax.patches:\n",
        "    ax.annotate(f'{p.get_height()}', (p.get_x() + p.get_width() / 2., p.get_height()),\n",
        "                ha='center', va='center', xytext=(0, 10), textcoords='offset points')\n",
        "\n",
        "plt.show()\n"
      ],
      "metadata": {
        "id": "t6GMdE67YoAp"
      },
      "execution_count": null,
      "outputs": []
    },
    {
      "cell_type": "markdown",
      "source": [
        "##### 1. Why did you pick the specific chart?"
      ],
      "metadata": {
        "id": "fge-S5ZAYoAp"
      }
    },
    {
      "cell_type": "markdown",
      "source": [
        "A count plot is chosen because it effectively displays the frequency of each distribution channel in the dataset, providing a clear understanding of how often each distribution channel is used by guests."
      ],
      "metadata": {
        "id": "5dBItgRVYoAp"
      }
    },
    {
      "cell_type": "markdown",
      "source": [
        "##### 2. What is/are the insight(s) found from the chart?"
      ],
      "metadata": {
        "id": "85gYPyotYoAp"
      }
    },
    {
      "cell_type": "markdown",
      "source": [
        "This chart will reveal which distribution channels are most and least popular among hotel guests. It helps to identify the distribution of guests across different distribution channels."
      ],
      "metadata": {
        "id": "4jstXR6OYoAp"
      }
    },
    {
      "cell_type": "markdown",
      "source": [
        "##### 3. Will the gained insights help creating a positive business impact?\n",
        "Are there any insights that lead to negative growth? Justify with specific reason."
      ],
      "metadata": {
        "id": "RoGjAbkUYoAp"
      }
    },
    {
      "cell_type": "markdown",
      "source": [
        "Yes, the insights will help the hotel management to optimize their distribution strategies, focusing on the most effective channels while also identifying opportunities to improve or reconsider less popular channels."
      ],
      "metadata": {
        "id": "zfJ8IqMcYoAp"
      }
    },
    {
      "cell_type": "markdown",
      "source": [
        "Chart 4) Distribution of Stays in Week Nights"
      ],
      "metadata": {
        "id": "vhyeEcJ6oGr2"
      }
    },
    {
      "cell_type": "code",
      "source": [
        "# Create a histogram for the distribution of stays in week nights\n",
        "# Create a DataFrame with the sum of stays in weekend and week nights\n",
        "stays_summary = hotel_data_df[['stays_in_weekend_nights', 'stays_in_week_nights']].sum().reset_index()\n",
        "stays_summary.columns = ['Stay_Type', 'Frequency']\n",
        "\n",
        "# Create a bar plot\n",
        "plt.figure(figsize=(10, 6))\n",
        "ax = sns.barplot(x='Stay_Type', y='Frequency', data=stays_summary)\n",
        "plt.title('Comparison of Weekend Night Stays and Weekday Night Stays Frequency')\n",
        "plt.ylabel('Frequency')\n",
        "plt.xlabel('Type of Stay')\n",
        "\n",
        "# Add annotations\n",
        "for p in ax.patches:\n",
        "    ax.annotate(format(p.get_height(), '.0f'),\n",
        "                (p.get_x() + p.get_width() / 2., p.get_height()),\n",
        "                ha = 'center', va = 'center',\n",
        "                xytext = (0, 9),\n",
        "                textcoords = 'offset points')"
      ],
      "metadata": {
        "id": "mJSOr7YAoP_l"
      },
      "execution_count": null,
      "outputs": []
    },
    {
      "cell_type": "markdown",
      "source": [
        "1. Why did you pick the specific chart?"
      ],
      "metadata": {
        "id": "wq3-k979piUv"
      }
    },
    {
      "cell_type": "markdown",
      "source": [
        "chose a bar chart to compare the total number of stays during weekend nights and weekday nights because it provides a clear visual representation of the differences in the frequency of stays."
      ],
      "metadata": {
        "id": "P4pttb5Zv9Hb"
      }
    },
    {
      "cell_type": "markdown",
      "source": [
        "2. What is/are the insight(s) found from the chart?"
      ],
      "metadata": {
        "id": "ywxjrw-fpoQO"
      }
    },
    {
      "cell_type": "markdown",
      "source": [
        "Higher Frequency of Weekday Stays:\n",
        "\n",
        "The chart shows that the total number of stays during weekday nights (297,929) is significantly higher than the total number of stays during weekend nights (110,514).\n",
        "Imbalance in Stay Preferences:\n",
        "\n",
        "This imbalance suggests that guests prefer to stay more often during weekdays than weekends."
      ],
      "metadata": {
        "id": "6vjEfdtHxxhR"
      }
    },
    {
      "cell_type": "markdown",
      "source": [
        "3. Will the gained insights help creating a positive business impact?"
      ],
      "metadata": {
        "id": "XycEEzkYx5NV"
      }
    },
    {
      "cell_type": "markdown",
      "source": [
        "Optimizing Resources:\n",
        "\n",
        "Staffing: Hotels can allocate more staff during weekdays when the occupancy is higher to ensure better service and manage the increased workload.\n",
        "Housekeeping: More resources can be dedicated to cleaning and maintenance during weekdays to accommodate the higher number of guests.\n",
        "Revenue Management:\n",
        "\n",
        "Pricing Strategy: Hotels might consider adjusting their pricing strategy. For example, offering discounts or promotions for weekend stays to attract more guests and balance occupancy rates.\n",
        "Packages and Deals: Create special weekend packages or deals to entice guests to book stays over the weekend.\n",
        "Marketing Efforts:\n",
        "\n",
        "Targeted Campaigns: Use targeted marketing campaigns to promote weekend stays, potentially reaching out to local customers who might be looking for a short getaway.\n",
        "Event Planning:\n",
        "\n",
        "Weekday Events: Hotels can plan more events, conferences, and business meetings during the weekdays when occupancy is higher.\n",
        "Weekend Events: Increase the number of leisure activities, weddings, and other events during the weekends to attract more guests."
      ],
      "metadata": {
        "id": "aAa-WuHux6xl"
      }
    },
    {
      "cell_type": "markdown",
      "source": [
        "<H1>BIVARIATE ANALYSIS"
      ],
      "metadata": {
        "id": "mPQKNnwI-yqM"
      }
    },
    {
      "cell_type": "markdown",
      "source": [
        "#### Chart - 5) Lead Time vs. ADR"
      ],
      "metadata": {
        "id": "4Of9eVA-YrdM"
      }
    },
    {
      "cell_type": "code",
      "source": [
        "# Chart - 4 visualization code\n",
        "# Visualization for Lead Time vs. ADR\n",
        "\n",
        "plt.figure(figsize=(12, 6))\n",
        "scatter_plot = sns.scatterplot(data=df_without_duplicates, x='lead_time', y='adr', alpha=0.6, edgecolor=None)\n",
        "plt.title('Lead Time vs. ADR')\n",
        "plt.xlabel('Lead Time (days)')\n",
        "plt.ylabel('Average Daily Rate (ADR)')\n",
        "\n",
        "\n",
        "plt.show()\n"
      ],
      "metadata": {
        "id": "irlUoxc8YrdO"
      },
      "execution_count": null,
      "outputs": []
    },
    {
      "cell_type": "markdown",
      "source": [
        "##### 1. Why did you pick the specific chart?"
      ],
      "metadata": {
        "id": "iky9q4vBYrdO"
      }
    },
    {
      "cell_type": "markdown",
      "source": [
        "A scatter plot is chosen because it effectively displays the relationship between two numerical variables, in this case, lead time and ADR. It allows us to see patterns, trends, and potential correlations between these variables."
      ],
      "metadata": {
        "id": "aJRCwT6DYrdO"
      }
    },
    {
      "cell_type": "markdown",
      "source": [
        "##### 2. What is/are the insight(s) found from the chart?"
      ],
      "metadata": {
        "id": "F6T5p64dYrdO"
      }
    },
    {
      "cell_type": "markdown",
      "source": [
        "We can determine if there is a positive, negative, or no significant correlation between lead time and ADR. For instance, if we observe that longer lead times tend to have lower ADRs, it might suggest that guests booking well in advance are securing lower rates. Conversely, if shorter lead times correlate with higher ADRs, it might indicate last-minute bookings are priced higher."
      ],
      "metadata": {
        "id": "Xx8WAJvtYrdO"
      }
    },
    {
      "cell_type": "markdown",
      "source": [
        "##### 3. Will the gained insights help creating a positive business impact?\n",
        "Are there any insights that lead to negative growth? Justify with specific reason."
      ],
      "metadata": {
        "id": "y-Ehk30pYrdP"
      }
    },
    {
      "cell_type": "markdown",
      "source": [
        "Yes, the insights will help the hotel management in several ways:\n",
        "\n",
        "Pricing Strategy: If we find that shorter lead times correspond to higher ADRs, the hotel can capitalize on last-minute bookings by adjusting prices upward as the check-in date approaches. For instance, if ADR increases by $10 for every 10 days closer to the arrival date, this can be a significant revenue-boosting strategy.\n",
        "Promotions and Discounts: If longer lead times are associated with lower ADRs, the hotel can offer early bird discounts to encourage early bookings, ensuring higher occupancy rates well in advance. For example, offering a 10% discount for bookings made 60 days in advance might be a strategic move.\n",
        "Revenue Management: Understanding the relationship helps in forecasting and revenue management. Knowing that, on average, bookings made within 7 days of arrival have an ADR 20% higher than those made 30 days in advance can inform dynamic pricing models and yield management strategies.\n",
        "Are there any insights that lead to negative growth? Justify with specific reasons.\n",
        "\n",
        "**Potential negative insights could include:**\n",
        "\n",
        "Discount Overuse: If the analysis shows that the majority of bookings are made at lower ADRs due to early booking discounts, the hotel may need to reconsider the depth and breadth of these discounts to avoid underpricing.\n",
        "Last-Minute Booking Risks: Heavy reliance on last-minute bookings at higher ADRs could be risky if market conditions change, leading to a sudden drop in occupancy. The hotel might need to balance last-minute pricing with ensuring a steady flow of advance bookings.\n",
        "Customer Perception: Significant fluctuations in ADR based on lead time might impact customer perception. If guests notice substantial price differences for the same room, it could lead to dissatisfaction or a sense of unfairness."
      ],
      "metadata": {
        "id": "jLNxxz7MYrdP"
      }
    },
    {
      "cell_type": "markdown",
      "source": [
        "#### Chart - 6) Market Segment vs. ADR"
      ],
      "metadata": {
        "id": "bamQiAODYuh1"
      }
    },
    {
      "cell_type": "code",
      "source": [
        "# Chart - 5 visualization code\n",
        "\n",
        "plt.figure(figsize=(12, 6))\n",
        "avg_adr_by_segment = df_without_duplicates.groupby('market_segment')['adr'].mean().reset_index()\n",
        "bar_plot = sns.barplot(data=avg_adr_by_segment, x='market_segment', y='adr', palette='viridis')\n",
        "\n",
        "# Adding labels to each bar\n",
        "for p in bar_plot.patches:\n",
        "        bar_plot.annotate(format(p.get_height(), '.2f'),\n",
        "        (p.get_x() + p.get_width() / 2., p.get_height()),\n",
        "        ha = 'center', va = 'center',\n",
        "        xytext = (0, 9),\n",
        "        textcoords = 'offset points')\n",
        "\n",
        "\n",
        "plt.title('Market Segment vs. ADR')\n",
        "plt.xlabel('Market Segment')\n",
        "plt.ylabel('Average Daily Rate (ADR)')\n",
        "plt.show()\n"
      ],
      "metadata": {
        "id": "TIJwrbroYuh3"
      },
      "execution_count": null,
      "outputs": []
    },
    {
      "cell_type": "markdown",
      "source": [
        "##### 1. Why did you pick the specific chart?"
      ],
      "metadata": {
        "id": "QHF8YVU7Yuh3"
      }
    },
    {
      "cell_type": "markdown",
      "source": [
        "Bar Chart: This chart type is ideal for comparing categorical data, such as market segments, and makes it easy to see differences in the average daily rate (ADR) across these segments. It visually communicates which segments are performing better in terms of ADR."
      ],
      "metadata": {
        "id": "dcxuIMRPYuh3"
      }
    },
    {
      "cell_type": "markdown",
      "source": [
        "##### 2. What is/are the insight(s) found from the chart?"
      ],
      "metadata": {
        "id": "GwzvFGzlYuh3"
      }
    },
    {
      "cell_type": "markdown",
      "source": [
        "Segment Performance: The chart highlights the ADR for each market segment, indicating which segments are more lucrative. Segments with higher ADRs are more profitable.\n",
        "\n",
        "Pricing Strategy: The differences in ADR suggest that certain market segments can command higher prices. This information can guide adjustments in pricing strategies to maximize revenue.\n",
        "\n",
        "Focus Areas: Segments with lower ADR might need targeted marketing efforts or pricing adjustments to improve their performance."
      ],
      "metadata": {
        "id": "uyqkiB8YYuh3"
      }
    },
    {
      "cell_type": "markdown",
      "source": [
        "##### 3. Will the gained insights help creating a positive business impact?\n",
        "Are there any insights that lead to negative growth? Justify with specific reason."
      ],
      "metadata": {
        "id": "qYpmQ266Yuh3"
      }
    },
    {
      "cell_type": "markdown",
      "source": [
        "Positive Impact: Focusing on segments with higher ADR can optimize marketing and sales efforts to boost revenue. For segments with lower ADR, understanding the underlying reasons and making strategic changes can improve profitability.\n",
        "\n",
        "Negative Impact: If segments with consistently low ADR also have high acquisition costs, they might reduce overall profitability. Addressing these issues can prevent negative growth and enhance overall business health.\n",
        "\n",
        "Actionable Strategy: The insights can inform targeted marketing campaigns, promotional offers, and pricing adjustments tailored to each market segment. This strategic approach can lead to better resource allocation, increased revenue, and improved profitability. Identifying underperforming segments early allows for timely adjustments to prevent negative impacts on business growth."
      ],
      "metadata": {
        "id": "_WtzZ_hCYuh4"
      }
    },
    {
      "cell_type": "markdown",
      "source": [
        "#### Chart - 7) Distribution Channel vs. ADR"
      ],
      "metadata": {
        "id": "OH-pJp9IphqM"
      }
    },
    {
      "cell_type": "code",
      "source": [
        "# Chart - 6 visualization code\n",
        "# Create a box plot\n",
        "plt.figure(figsize=(12, 6))\n",
        "sns.boxplot(x='distribution_channel', y='adr', data=df_without_duplicates)\n",
        "plt.title('Distribution Channel vs. Average Daily Rate (ADR)')\n",
        "plt.xlabel('Distribution Channel')\n",
        "plt.ylabel('Average Daily Rate (ADR)')\n",
        "plt.xticks(rotation=45)\n",
        "plt.show()"
      ],
      "metadata": {
        "id": "kuRf4wtuphqN"
      },
      "execution_count": null,
      "outputs": []
    },
    {
      "cell_type": "markdown",
      "source": [
        "##### 1. Why did you pick the specific chart?"
      ],
      "metadata": {
        "id": "bbFf2-_FphqN"
      }
    },
    {
      "cell_type": "markdown",
      "source": [
        "Bar Chart: This chart type is chosen because it is ideal for comparing categorical data such as distribution channels. It provides a clear visual representation of the differences in ADR across different channels, making it easy to identify which channels are more effective in terms of revenue."
      ],
      "metadata": {
        "id": "loh7H2nzphqN"
      }
    },
    {
      "cell_type": "markdown",
      "source": [
        "##### 2. What is/are the insight(s) found from the chart?"
      ],
      "metadata": {
        "id": "_ouA3fa0phqN"
      }
    },
    {
      "cell_type": "markdown",
      "source": [
        "Outliers:\n",
        "\n",
        "There are notable outliers in the TA/TO (Travel Agent/Tour Operator) and Corporate channels. Specifically, the TA/TO channel has an extreme outlier with an ADR above 5000, which significantly stands out from the rest of the data.\n",
        "ADR Distribution:\n",
        "\n",
        "Most distribution channels have a similar range and distribution of ADR values. The densities are relatively tight around the lower ADR values, indicating that most bookings through these channels have a lower ADR.\n",
        "Direct Channel:\n",
        "\n",
        "The Direct channel has a slightly wider spread of ADR values compared to some other channels, but still, most of the values are concentrated in the lower range.\n",
        "Corporate Channel:\n",
        "\n",
        "The Corporate channel also shows a tight distribution around the lower ADR values, with a few outliers, but nothing as extreme as the TA/TO channel.\n",
        "Undefined Channel:\n",
        "\n",
        "The Undefined channel has a similar pattern to the Direct and Corporate channels, with a tight distribution around the lower ADR values.\n",
        "GDS Channel:\n",
        "\n",
        "The GDS (Global Distribution System) channel also shows a tight distribution around the lower ADR values with some minor outliers."
      ],
      "metadata": {
        "id": "VECbqPI7phqN"
      }
    },
    {
      "cell_type": "markdown",
      "source": [
        "##### 3. Will the gained insights help creating a positive business impact?\n",
        "Are there any insights that lead to negative growth? Justify with specific reason."
      ],
      "metadata": {
        "id": "Seke61FWphqN"
      }
    },
    {
      "cell_type": "markdown",
      "source": [
        "Business Impact of the Insights\n",
        "\n",
        "Channel Performance: Identify which distribution channels have a more consistent and higher ADR, allowing for better channel management and allocation of resources.\n",
        "\n",
        "Revenue Optimization: Use the insights to optimize pricing strategies across different channels to maximize revenue.\n",
        "\n",
        "Targeted Marketing: Develop targeted marketing campaigns for distribution channels that yield higher ADR to attract more high-value customers."
      ],
      "metadata": {
        "id": "DW4_bGpfphqN"
      }
    },
    {
      "cell_type": "markdown",
      "source": [
        "#### Chart - 8) Number of Special Requests vs. ADR"
      ],
      "metadata": {
        "id": "PIIx-8_IphqN"
      }
    },
    {
      "cell_type": "code",
      "source": [
        "# Chart - 7 visualization code\n",
        "# Visualize Special Requests vs. ADR\n",
        "# Create the scatter plot\n",
        "plt.figure(figsize=(10, 6))\n",
        "scatter = plt.scatter(df_without_duplicates['total_kids'], df_without_duplicates['adr'],\n",
        "                      c=df_without_duplicates['total_kids'], cmap='viridis', alpha=0.6)\n",
        "\n",
        "# Adding color bar\n",
        "cbar = plt.colorbar(scatter)\n",
        "cbar.set_label('Number of Children')\n",
        "\n",
        "# Adding labels and title\n",
        "plt.xlabel('Number of Children')\n",
        "plt.ylabel('Average Daily Rate (ADR)')\n",
        "plt.title('Number of Children vs. ADR')\n",
        "\n",
        "# Show plot\n",
        "plt.show()"
      ],
      "metadata": {
        "id": "lqAIGUfyphqO"
      },
      "execution_count": null,
      "outputs": []
    },
    {
      "cell_type": "markdown",
      "source": [
        "##### 1. Why did you pick the specific chart?"
      ],
      "metadata": {
        "id": "t27r6nlMphqO"
      }
    },
    {
      "cell_type": "markdown",
      "source": [
        "The scatter plot was chosen to visualize the relationship between the number of children and the Average Daily Rate (ADR). This type of chart is suitable because it allows us to see how the ADR changes with different numbers of children, and whether there is any discernible pattern or correlation."
      ],
      "metadata": {
        "id": "iv6ro40sphqO"
      }
    },
    {
      "cell_type": "markdown",
      "source": [
        "##### 2. What is/are the insight(s) found from the chart?"
      ],
      "metadata": {
        "id": "r2jJGEOYphqO"
      }
    },
    {
      "cell_type": "markdown",
      "source": [
        "Most Bookings with Low ADR:\n",
        "\n",
        "Most bookings have 0 to 2 children.\n",
        "ADR is generally lower for these bookings, clustering between 0 and 1000.\n",
        "Outliers:\n",
        "\n",
        "There is a notable outlier where the ADR is significantly higher (above 5000) with 0 children.\n",
        "A few bookings with a high number of children (8 to 10) also have higher ADR, though these are much less frequent.\n",
        "Distribution of ADR:\n",
        "\n",
        "ADR values tend to be lower for bookings with fewer children (0-2) and show more variance for higher numbers of children"
      ],
      "metadata": {
        "id": "Po6ZPi4hphqO"
      }
    },
    {
      "cell_type": "markdown",
      "source": [
        "##### 3. Will the gained insights help creating a positive business impact?\n",
        "Are there any insights that lead to negative growth? Justify with specific reason."
      ],
      "metadata": {
        "id": "b0JNsNcRphqO"
      }
    },
    {
      "cell_type": "markdown",
      "source": [
        "Targeted Marketing:\n",
        "\n",
        "Knowing that most bookings involve 0-2 children with lower ADR, marketing efforts can be tailored to attract families by offering special deals or packages for families with children to increase ADR.\n",
        "Pricing Strategies:\n",
        "\n",
        "The presence of high ADR outliers suggests that certain conditions or amenities (e.g., luxury rooms, special packages) are associated with higher rates. Understanding these conditions can help in designing premium packages that attract high-spending customers.\n",
        "Inventory Management:\n",
        "\n",
        "By understanding the distribution of family bookings, hotels can better manage their room inventory, ensuring that they have the right mix of rooms available to meet the demands of families with different numbers of children."
      ],
      "metadata": {
        "id": "xvSq8iUTphqO"
      }
    },
    {
      "cell_type": "markdown",
      "source": [
        "#### Chart - 9)Customer Type vs Cancellation Status"
      ],
      "metadata": {
        "id": "yNEpVnB2NZCI"
      }
    },
    {
      "cell_type": "code",
      "source": [
        "# Create a pivot table to count cancellations and non-cancellations by customer type\n",
        "pivot_table = df_without_duplicates.pivot_table(index='customer_type', columns='is_canceled', aggfunc='size', fill_value=0)\n",
        "\n",
        "# Plot the chart and get the Axes object\n",
        "ax = pivot_table.plot(kind='bar', stacked=True, color=['blue', 'orange'], figsize=(10, 6))\n",
        "\n",
        "# Adding labels and title\n",
        "plt.xlabel('Customer Type')\n",
        "plt.ylabel('Count')\n",
        "plt.title('Customer Type vs Cancellation Status')\n",
        "plt.legend(title='Cancellation Status', labels=['Not Canceled', 'Canceled'])\n",
        "plt.xticks(rotation=45)\n",
        "\n",
        "# Adding data labels\n",
        "for container in ax.containers:\n",
        "    ax.bar_label(container, fmt='%.0f', label_type='center')\n",
        "\n",
        "# Display the plot\n",
        "plt.show()"
      ],
      "metadata": {
        "id": "sF_KH5k_2kye"
      },
      "execution_count": null,
      "outputs": []
    },
    {
      "cell_type": "markdown",
      "source": [
        "1.why did you use this chart ?"
      ],
      "metadata": {
        "id": "s4DZVrkD49iQ"
      }
    },
    {
      "cell_type": "markdown",
      "source": [
        "This stacked bar chart was likely used to clearly illustrate the relationship between customer types and their cancellation status. It provides a visual representation of both the number of bookings and the proportion of cancellations within each customer type category, making it easier to compare the differences and identify patterns or trends.\n"
      ],
      "metadata": {
        "id": "aXu2VGGs4-b4"
      }
    },
    {
      "cell_type": "markdown",
      "source": [
        "2. What are the numerical insights from this chart ?"
      ],
      "metadata": {
        "id": "Y8IiVV155Dhq"
      }
    },
    {
      "cell_type": "markdown",
      "source": [
        "Contract Customers: Out of 2704 bookings, 512 were canceled and 2192 were not canceled.\n",
        "Group Customers: Out of 690 bookings, all were not canceled.\n",
        "Transient Customers: Out of 71862 bookings, 21661 were canceled and 50201 were not canceled.\n",
        "Transient-Party Customers: Out of 11692 bookings, 1783 were canceled and 9909 were not canceled.\n",
        "Cancellations: Transient customers have the highest number of cancellations (21661), while Group customers have no cancellations.\n",
        "Non-Cancellations: Transient customers also have the highest number of non-cancellations (50201), followed by Transient-Party, Contract, and Group customers."
      ],
      "metadata": {
        "id": "gDMUCIyC5H3s"
      }
    },
    {
      "cell_type": "markdown",
      "source": [
        "3. Will the gained insight have a positive business impact?"
      ],
      "metadata": {
        "id": "IYLgm3rj5iK4"
      }
    },
    {
      "cell_type": "markdown",
      "source": [
        "Yes, the insights from this chart can have a positive business impact by guiding decision-making. For instance:\n",
        "\n",
        "Customer Focus: The hotel can focus on strategies to reduce cancellations among Transient customers, such as offering better deals, more flexible booking options, or improving customer service.\n",
        "\n",
        "Marketing and Promotions: The hotel might consider targeting more Group customers, as they have a 0% cancellation rate, indicating a reliable source of revenue.\n",
        "\n",
        "Resource Allocation: Understanding which customer types have higher cancellation rates can help in better resource planning and allocation, ensuring that the hotel can maximize occupancy and minimize revenue loss due to cancellations.\n",
        "\n",
        "Customer Retention Strategies: Implementing specific retention strategies for customer types with higher cancellations can help improve overall booking stability and revenue"
      ],
      "metadata": {
        "id": "Za7oW9v05Pzk"
      }
    },
    {
      "cell_type": "markdown",
      "source": [
        "Chart - 10)Booking Month vs Cancellation Status"
      ],
      "metadata": {
        "id": "GdjPjScROWbn"
      }
    },
    {
      "cell_type": "code",
      "source": [
        "# Create a new column to indicate if a booking was cancelled\n",
        "df_without_duplicates['Is Cancelled'] = df_without_duplicates['is_canceled'].apply(lambda x: 'Cancelled' if x == 1 else 'Not Cancelled')\n",
        "\n",
        "# Group the data by month and cancellation status\n",
        "monthly_cancellations = df_without_duplicates.groupby(['arrival_date_month', 'Is Cancelled']).size().reset_index(name='Count')\n",
        "\n",
        "# Pivot the data to create a chart-friendly format\n",
        "monthly_cancellations_pivot = monthly_cancellations.pivot(index='arrival_date_month', columns='Is Cancelled', values='Count')\n",
        "\n",
        "# Ensure the months are in order\n",
        "months = ['January', 'February', 'March', 'April', 'May', 'June', 'July', 'August', 'September', 'October', 'November', 'December']\n",
        "monthly_cancellations_pivot = monthly_cancellations_pivot.reindex(months)\n",
        "\n",
        "# Create the stacked column chart\n",
        "plt.figure(figsize=(10, 6))\n",
        "monthly_cancellations_pivot.plot(kind='bar', stacked=True)\n",
        "\n",
        "# Add data labels\n",
        "for p in plt.gca().patches:\n",
        "    plt.annotate(str(p.get_height()), (p.get_x() * 1.005, p.get_height() * 1.005))\n",
        "\n",
        "# Set the title and labels\n",
        "plt.title('Monthly Cancellations')\n",
        "plt.xlabel('Month')\n",
        "plt.ylabel('Number of Bookings')\n",
        "plt.legend(title='Cancellation Status')\n",
        "plt.show()"
      ],
      "metadata": {
        "id": "5-GI0eQH3I2o"
      },
      "execution_count": null,
      "outputs": []
    },
    {
      "cell_type": "markdown",
      "source": [
        "1.why did you use this chart ?"
      ],
      "metadata": {
        "id": "E4Bi_Wb-6BKB"
      }
    },
    {
      "cell_type": "markdown",
      "source": [
        "This stacked bar chart was likely used to visualize the distribution of cancellations and non-cancellations across different months. It helps to identify trends and seasonal patterns in booking behaviors, showing how cancellations vary month by month, and it provides a clear comparison between the two statuses (Canceled and Not Canceled) within each month."
      ],
      "metadata": {
        "id": "IMUhLu636A3g"
      }
    },
    {
      "cell_type": "markdown",
      "source": [
        "2. What are the insights from this chart ?"
      ],
      "metadata": {
        "id": "VErGu7pQ5_k7"
      }
    },
    {
      "cell_type": "markdown",
      "source": [
        "Peak Cancellation Months:\n",
        "\n",
        "The peak cancellation months are July, August, and September, with the highest cancellation rate in August (approximately 35%).\n",
        "These months may require additional resources or strategies to mitigate cancellations.\n",
        "\n",
        "Low Cancellation Months:\n",
        "\n",
        "The low cancellation months are January, February, and March, with the lowest cancellation rate in February (approximately 20%).\n",
        "These months may indicate successful strategies or seasonal trends that can be leveraged.\n",
        "\n",
        "Cancellation Patterns:\n",
        "\n",
        "The chart shows a seasonal pattern in cancellations, with higher cancellation rates during the summer months (June to September) and lower cancellation rates during the winter months (December to February).\n",
        "This pattern may be related to seasonal demand or other external factors.\n",
        "\n",
        "Booking and Cancellation Ratios:\n",
        "\n",
        "The chart shows that the booking and cancellation ratios vary by month.\n",
        "The ratio of bookings to cancellations is highest in January (approximately 4:1) and lowest in August (approximately 2:1).\n",
        "\n",
        "This may indicate that the booking strategy is more effective during certain months\n",
        "\n"
      ],
      "metadata": {
        "id": "LF3Zqc_gCLsY"
      }
    },
    {
      "cell_type": "markdown",
      "source": [
        "3. Will the gained insights have a positive business impact ?"
      ],
      "metadata": {
        "id": "jx0f07KNSr5m"
      }
    },
    {
      "cell_type": "markdown",
      "source": [
        "Seasonal Adjustments: By understanding which months have higher cancellation rates, the hotel can adjust its pricing, marketing, and promotion strategies accordingly. For example, if cancellations peak in certain months, the hotel can implement special offers or more flexible booking policies during these periods to reduce cancellations.\n",
        "\n",
        "Resource Planning: The hotel can better plan staffing, inventory, and other resources based on the expected occupancy rates. Higher cancellations in certain months might require less staffing, while lower cancellations could mean the need for more staff to handle increased occupancy.\n",
        "\n",
        "Customer Engagement: The hotel can engage with customers who booked in high-cancellation months to confirm their stays, offer incentives to ensure they keep their reservations, or provide more information to reduce uncertainties that lead to cancellations.\n",
        "\n",
        "Revenue Management: Understanding the monthly trends in cancellations and non-cancellations helps in revenue forecasting and management. The hotel can optimize room rates and availability to maximize revenue based on expected occupancy patterns"
      ],
      "metadata": {
        "id": "f7sYPzMCSsXx"
      }
    },
    {
      "cell_type": "markdown",
      "source": [
        "Chart - 11)Room Type Difference vs. Cancellation Status"
      ],
      "metadata": {
        "id": "2qVnoi17NnHS"
      }
    },
    {
      "cell_type": "code",
      "source": [
        "# Create a new column to indicate if the assigned room type is different from the reserved room type\n",
        "df_without_duplicates['Room Type Difference'] = df_without_duplicates.apply(lambda row: 'Different' if row['reserved_room_type'] != row['assigned_room_type'] else 'Same', axis=1)\n",
        "\n",
        "# Group the data by room type difference and cancellation status\n",
        "room_type_cancellation = df_without_duplicates.groupby(['Room Type Difference', 'is_canceled']).size().reset_index(name='Count')\n",
        "\n",
        "# Pivot the data to create a chart-friendly format\n",
        "room_type_cancellation_pivot = room_type_cancellation.pivot(index='Room Type Difference', columns='is_canceled', values='Count')\n",
        "\n",
        "# Create a stacked bar chart for room type difference and cancellation status\n",
        "plt.figure(figsize=(10, 6))\n",
        "room_type_cancellation_pivot.plot(kind='bar', stacked=True)\n",
        "\n",
        "# Add data labels to the chart\n",
        "for p in plt.gca().patches:\n",
        "    plt.annotate(str(p.get_height()), (p.get_x() * 1.005, p.get_height() * 1.005))\n",
        "\n",
        "plt.title('Room Type Difference vs. Cancellation Status')\n",
        "plt.xlabel('Room Type Difference')\n",
        "plt.ylabel('Count')\n",
        "plt.legend(title='Cancellation Status')\n",
        "plt.show()"
      ],
      "metadata": {
        "id": "7_tf0XlBNmSx"
      },
      "execution_count": null,
      "outputs": []
    },
    {
      "cell_type": "markdown",
      "source": [
        "1. Why did you chose this chart"
      ],
      "metadata": {
        "id": "yAPboxHubiYr"
      }
    },
    {
      "cell_type": "markdown",
      "source": [
        "The stacked bar chart format allows for a straightforward comparison between cancellation (orange) and non-cancellation (blue) statuses across different room type scenarios (same vs. different)."
      ],
      "metadata": {
        "id": "6fjDZdOUbgmE"
      }
    },
    {
      "cell_type": "markdown",
      "source": [
        "2. What are the insighst from the chart"
      ],
      "metadata": {
        "id": "vEsWfM7mbf-E"
      }
    },
    {
      "cell_type": "markdown",
      "source": [
        "Cancellation Rates by Room Type Difference:\n",
        "\n",
        "When the room type is different, there are significantly more cancellations (orange, 12374) compared to non-cancellations (blue, 616).\n",
        "When the room type is the same, there are more non-cancellations (blue, 23393) than cancellations (orange, 50847), but cancellations still make up a large portion.\n",
        "Impact of Room Type Difference on Cancellations:\n",
        "\n",
        "Guests who experience a difference in room type are more likely to cancel their bookings compared to those who get the same room type they booked.\n",
        "Overall Distribution:\n",
        "\n",
        "A majority of the bookings have the same room type, regardless of cancellation status. However, within this group, cancellations are higher in absolute terms compared to non-cancellations."
      ],
      "metadata": {
        "id": "CvHKCYFZbdEP"
      }
    },
    {
      "cell_type": "markdown",
      "source": [
        "3. Will the gained insights have a positive business impact ?"
      ],
      "metadata": {
        "id": "v_sFqaNcTOSU"
      }
    },
    {
      "cell_type": "markdown",
      "source": [
        "Understanding Customer Preferences:\n",
        "\n",
        "The chart shows that customers who received the same room type they booked have significantly fewer cancellations compared to those who received a different room type. This indicates a clear preference for receiving the exact room type booked.\n",
        "Improving Customer Satisfaction:\n",
        "\n",
        "Ensuring that customers receive the room type they booked can lead to higher satisfaction and fewer cancellations. This might involve better inventory management and more accurate forecasting to match room availability with bookings.\n",
        "Enhancing Booking Experience:\n",
        "\n",
        "Communicating clearly with customers about room availability and setting accurate expectations can reduce the chances of cancellations due to room type differences. Providing options for customers to choose from available room types during booking can also help in reducing cancellations.\n",
        "Operational Efficiency:\n",
        "\n",
        "By understanding the impact of room type mismatches on cancellations, the hotel can improve its room assignment processes. This can lead to better resource utilization and more efficient operations, ultimately reducing operational costs associated with last-minute cancellations and room changes.\n",
        "Revenue Management:\n",
        "\n",
        "Fewer cancellations due to room type discrepancies can lead to more stable revenue streams. The hotel can better predict occupancy rates and manage pricing strategies accordingly.\n",
        "Tailored Marketing and Promotions:\n",
        "\n",
        "The hotel can use this insight to create targeted marketing campaigns that highlight the guarantee of receiving the exact room type booked. This assurance can be a selling point, attracting more bookings and reducing the likelihood of cancellations"
      ],
      "metadata": {
        "id": "MkJ_WAeZUgOI"
      }
    },
    {
      "cell_type": "markdown",
      "source": [
        "Chart - 12) Hotel vs. Cancellation Status"
      ],
      "metadata": {
        "id": "FbDqhtsRVApt"
      }
    },
    {
      "cell_type": "code",
      "source": [
        "# Plotting the stacked bar chart\n",
        "ax = hotel_cancellation.plot(kind='bar', stacked=True, color=['#FFA07A', '#6495ED'], figsize=(10, 6))\n",
        "\n",
        "# Adding data labels on top of the bars\n",
        "for p in ax.patches:\n",
        "    width, height = p.get_width(), p.get_height()\n",
        "    x, y = p.get_xy()\n",
        "    ax.text(x + width / 2,\n",
        "            y + height / 2,\n",
        "            '{:.0f}'.format(height),\n",
        "            ha='center',\n",
        "            va='center')\n",
        "\n",
        "# Adding titles and labels\n",
        "plt.title('Hotel Type vs Cancellation Status')\n",
        "plt.xlabel('Hotel Type')\n",
        "plt.ylabel('Number of Bookings')\n",
        "plt.legend(['Not Canceled', 'Canceled'], title='Cancellation Status')\n",
        "plt.xticks(rotation=0)\n",
        "\n",
        "# Display the plot\n",
        "plt.show()"
      ],
      "metadata": {
        "id": "xUgogkymVMz_"
      },
      "execution_count": null,
      "outputs": []
    },
    {
      "cell_type": "markdown",
      "source": [
        "1. Why did you chose this chart ?"
      ],
      "metadata": {
        "id": "JakrURkDWhnK"
      }
    },
    {
      "cell_type": "markdown",
      "source": [
        "A stacked bar chart is effective for comparing the cancellation rates between City Hotels and Resort Hotels. The clear visual distinction allows for an immediate understanding of the proportion of cancellations versus non-cancellations for each type."
      ],
      "metadata": {
        "id": "2xkOAsaDWimJ"
      }
    },
    {
      "cell_type": "markdown",
      "source": [
        "2. What are the insighst from the chart ?"
      ],
      "metadata": {
        "id": "5-356CmfWnB1"
      }
    },
    {
      "cell_type": "markdown",
      "source": [
        "Higher Bookings in City Hotels: City Hotels have a higher total number of bookings compared to Resort Hotels.\n",
        "\n",
        "Cancellation Rates:\n",
        "\n",
        "City Hotels: A significant portion of bookings is canceled (16,035 out of 53,274 total bookings, which is about 30%).\n",
        "\n",
        "Resort Hotels: A smaller portion of bookings is canceled (7,974 out of 33,956 total bookings, which is about 23%).\n",
        "\n",
        "Booking Trends: City Hotels tend to attract more bookings but also face a higher cancellation rate compared to Resort Hotels."
      ],
      "metadata": {
        "id": "ya6GCGTkWqG9"
      }
    },
    {
      "cell_type": "markdown",
      "source": [
        "3. Will the gained insights have a positive business impact ?"
      ],
      "metadata": {
        "id": "vhA6sEL1XHIt"
      }
    },
    {
      "cell_type": "markdown",
      "source": [
        "Targeted Strategies:\n",
        "\n",
        "City Hotels: Implement strategies to reduce cancellations, such as flexible cancellation policies, better customer engagement, and targeted promotions to ensure bookings are not just made but also retained.\n",
        "\n",
        "Resort Hotels: Focus on increasing overall bookings while maintaining or improving the current low cancellation rate. Offering more attractive packages or seasonal promotions could be beneficial.\n",
        "\n",
        "Resource Allocation:\n",
        "\n",
        "City Hotels: Allocate resources to customer service and engagement to decrease cancellations. Investing in loyalty programs could help in retaining customers.\n",
        "\n",
        "Resort Hotels: Increase marketing efforts to attract more customers while leveraging the lower cancellation rate as a selling point.\n",
        "Revenue Management:\n",
        "\n",
        "City Hotels: Improve revenue management by forecasting potential cancellations and adjusting pricing strategies accordingly.\n",
        "\n",
        "Resort Hotels: Use the lower cancellation rates to offer premium services or packages, as there's a higher likelihood of bookings being honored"
      ],
      "metadata": {
        "id": "zo6mZsRmWyzs"
      }
    },
    {
      "cell_type": "markdown",
      "source": [
        "Chart - 12)Lead Time vs Cancellation Status"
      ],
      "metadata": {
        "id": "-_9JAINDS4Em"
      }
    },
    {
      "cell_type": "code",
      "source": [
        "# Create a plot\n",
        "plt.figure(figsize=(14, 7))\n",
        "sns.histplot(data=df_without_duplicates, x='lead_time', hue='is_canceled', multiple='stack', kde=False)\n",
        "\n",
        "# Add labels\n",
        "plt.title('Lead Time vs Cancellation Status')\n",
        "plt.xlabel('Lead Time')\n",
        "plt.ylabel('Count')\n",
        "\n",
        "# Adding data labels with rotation and interval\n",
        "for container in plt.gca().containers:\n",
        "    for bar in container.patches:\n",
        "        height = bar.get_height()\n",
        "        if height > 0:\n",
        "            plt.text(bar.get_x() + bar.get_width() / 2, height,\n",
        "                     f'{int(height)}', ha='center', va='bottom', rotation=90, fontsize=8)\n",
        "\n",
        "plt.legend(title='Cancellation Status', labels=['Not Canceled', 'Canceled'])\n",
        "plt.show()"
      ],
      "metadata": {
        "id": "Mk5F4es0LSFg"
      },
      "execution_count": null,
      "outputs": []
    },
    {
      "cell_type": "markdown",
      "source": [
        "DUE TO OUTLIERS, THIS DATA LABELS ON THIS GRAPH ARE NOT CLEAR. SO, REMOVING OUTLIER & REPLOTTING GRAPH"
      ],
      "metadata": {
        "id": "9-3ChTxhIhAZ"
      }
    },
    {
      "cell_type": "code",
      "source": [
        "# Remove outliers based on IQR method\n",
        "Q1 = df_without_duplicates['lead_time'].quantile(0.25)\n",
        "Q3 = df_without_duplicates['lead_time'].quantile(0.75)\n",
        "IQR = Q3 - Q1\n",
        "\n",
        "# Define outlier bounds\n",
        "lower_bound = Q1 - 1.5 * IQR\n",
        "upper_bound = Q3 + 1.5 * IQR\n",
        "\n",
        "# Filter the dataset to remove outliers\n",
        "df_filtered = df_without_duplicates[(df_without_duplicates['lead_time'] >= lower_bound) &\n",
        "                                    (df_without_duplicates['lead_time'] <= upper_bound)]\n",
        "\n",
        "plt.figure(figsize=(14, 7))\n",
        "sns.histplot(data=df_filtered, x='lead_time', hue='is_canceled', multiple='stack', kde=False)\n",
        "\n",
        "# Add labels\n",
        "plt.title('Lead Time vs Cancellation Status (Outliers Removed)')\n",
        "plt.xlabel('Lead Time')\n",
        "plt.ylabel('Count')\n",
        "\n",
        "# Adding data labels with rotation and interval\n",
        "for container in plt.gca().containers:\n",
        "    for bar in container.patches:\n",
        "        height = bar.get_height()\n",
        "        if height > 0:\n",
        "            plt.text(bar.get_x() + bar.get_width() / 2, height,\n",
        "                     f'{int(height)}', ha='center', va='bottom', rotation=90, fontsize=8)\n",
        "\n",
        "plt.legend(title='Cancellation Status', labels=['Not Canceled', 'Canceled'])\n",
        "plt.show()"
      ],
      "metadata": {
        "id": "amDJrFInI5PM"
      },
      "execution_count": null,
      "outputs": []
    },
    {
      "cell_type": "code",
      "source": [
        "#Approach 1: Bar Plot with Separate Bars\n",
        "\n",
        "# Remove outliers based on IQR method\n",
        "Q1 = df_without_duplicates['lead_time'].quantile(0.25)\n",
        "Q3 = df_without_duplicates['lead_time'].quantile(0.75)\n",
        "IQR = Q3 - Q1\n",
        "\n",
        "# Define outlier bounds\n",
        "lower_bound = Q1 - 1.5 * IQR\n",
        "upper_bound = Q3 + 1.5 * IQR\n",
        "\n",
        "# Filter the dataset to remove outliers\n",
        "df_filtered = df_without_duplicates[(df_without_duplicates['lead_time'] >= lower_bound) &\n",
        "                                    (df_without_duplicates['lead_time'] <= upper_bound)]\n",
        "\n",
        "# Create a bar plot with separate bars for canceled and not canceled\n",
        "plt.figure(figsize=(14, 7))\n",
        "ax = sns.histplot(data=df_filtered, x='lead_time', hue='is_canceled', multiple='dodge', kde=False)\n",
        "\n",
        "# Add labels\n",
        "plt.title('Lead Time vs Cancellation Status (Outliers Removed)')\n",
        "plt.xlabel('Lead Time')\n",
        "plt.ylabel('Count')\n",
        "\n",
        "# Adding data labels with rotation\n",
        "for container in ax.containers:\n",
        "    for bar in container:\n",
        "        height = bar.get_height()\n",
        "        ax.text(bar.get_x() + bar.get_width() / 2, height,\n",
        "                f'{int(height)}', ha='center', va='bottom',\n",
        "                rotation=90, fontsize=10, color='black')\n",
        "\n",
        "plt.legend(title='Cancellation Status', labels=['Not Canceled', 'Canceled'])\n",
        "plt.show()"
      ],
      "metadata": {
        "id": "baTCvUkTJsus"
      },
      "execution_count": null,
      "outputs": []
    },
    {
      "cell_type": "markdown",
      "source": [
        "1. Why did you pick the specific chart ?"
      ],
      "metadata": {
        "id": "nnmCgAPiLqYN"
      }
    },
    {
      "cell_type": "markdown",
      "source": [
        "Separate Bars: By using separate bars for canceled and not canceled bookings, the chart provides a clear visual comparison between the two categories at each lead time interval.\n",
        "\n",
        "Multiple Dodge: The multiple='dodge' parameter ensures that the bars for canceled and not canceled bookings are side-by-side, rather than stacked, which helps prevent overlapping and stacking of data labels, making it easier to read."
      ],
      "metadata": {
        "id": "sBQ01nQ_Lp3I"
      }
    },
    {
      "cell_type": "markdown",
      "source": [
        "2. What are the insights from the chart"
      ],
      "metadata": {
        "id": "6S8_4DtLLIk6"
      }
    },
    {
      "cell_type": "markdown",
      "source": [
        "High Concentration of Short Lead Times:\n",
        "\n",
        "There are 12,387 bookings with a lead time of 0 days, which is the highest count among all lead times. Out of these, approximately 1,967 bookings are canceled.\n",
        "Cancellation Rates by Lead Time:\n",
        "\n",
        "For bookings with a lead time of 1 day, there are 3,647 bookings in total, with about 738 of these canceled.\n",
        "For lead times of 2 days, there are 2,173 bookings, with 445 canceled.\n",
        "For lead times of 3 days, there are 1,745 bookings, with 355 canceled.\n",
        "Distribution Pattern:\n",
        "\n",
        "The number of bookings drops significantly as the lead time increases. For example:\n",
        "At 10 days lead time, there are 1,105 bookings with 202 cancellations.\n",
        "At 30 days lead time, there are 532 bookings with 108 cancellations.\n",
        "By 100 days lead time, the bookings drop to around 159, with 29 cancellations.\n",
        "Impact of Lead Time on Cancellation Decisions:\n",
        "\n",
        "The general trend shows that while cancellations occur at various lead times, the bulk of bookings (and cancellations) are clustered within the first 50 days.\n",
        "For lead times beyond 100 days, the number of bookings and cancellations are minimal. For instance:\n",
        "At 150 days lead time, there are about 40 bookings with 8 cancellations.\n",
        "At 200 days lead time, there are about 22 bookings with 6 cancellations.\n",
        "Long Lead Times:\n",
        "\n",
        "Very few bookings have lead times extending beyond 200 days. For example:\n",
        "At 250 days lead time, there are about 16 bookings with 5 cancellations.\n",
        "The longest lead time observed is 300 days, with about 9 bookings and 2 cancellations."
      ],
      "metadata": {
        "id": "sDABC_ymLJKu"
      }
    },
    {
      "cell_type": "markdown",
      "source": [
        "3. Will the gained insights help creating a positive business impact?"
      ],
      "metadata": {
        "id": "Y2wnipRiLcXT"
      }
    },
    {
      "cell_type": "markdown",
      "source": [
        "Targeted Marketing:\n",
        "\n",
        "To increase the number of bookings with longer lead times, offer special promotions or discounts for bookings made 30, 60, or 90 days in advance. This could potentially balance the high concentration of short lead time bookings.\n",
        "Flexible Cancellation Policies:\n",
        "\n",
        "Implement or enhance flexible cancellation policies, especially for bookings made with lead times of 0 to 10 days, where cancellations are highest (e.g., 1,967 cancellations at 0 days, 738 at 1 day, 445 at 2 days).\n",
        "Monitoring and Analysis:\n",
        "\n",
        "Continuously track the lead time and cancellation patterns. If you observe shifts, adapt marketing strategies accordingly to either promote early bookings or manage last-minute bookings more effectively.\n",
        "Customer Feedback:\n",
        "\n",
        "Collect feedback from customers who cancel bookings, particularly those who cancel at short lead times (0-10 days). Understanding the reasons behind these cancellations could help in devising strategies to reduce them.\n",
        "Enhanced Customer Engagement:\n",
        "\n",
        "Increase engagement with customers who book at very short lead times (e.g., 0 to 3 days). Personalized communication or dedicated customer support might help reduce cancellations (e.g., by addressing specific concerns or needs that could lead to cancellations)."
      ],
      "metadata": {
        "id": "GmXrPGt_Lc2J"
      }
    },
    {
      "cell_type": "markdown",
      "source": [
        "**Multivariate Analysis**"
      ],
      "metadata": {
        "id": "NJnVTn3K085K"
      }
    },
    {
      "cell_type": "markdown",
      "source": [
        "#### Chart - 13)Lead Time vs. ADR by Market Segment"
      ],
      "metadata": {
        "id": "BZR9WyysphqO"
      }
    },
    {
      "cell_type": "code",
      "source": [
        "# Chart - 8 visualization code\n",
        "# Create the scatter plot\n",
        "plt.figure(figsize=(14, 8))\n",
        "sns.scatterplot(data=df_without_duplicates, x='lead_time', y='adr', hue='market_segment', palette='Set2', alpha=0.7)\n",
        "\n",
        "# Add titles and labels\n",
        "plt.title('Lead Time vs. ADR by Market Segment', fontsize=16)\n",
        "plt.xlabel('Lead Time (days)', fontsize=14)\n",
        "plt.ylabel('ADR (Average Daily Rate)', fontsize=14)\n",
        "plt.legend(title='Market Segment', fontsize=12, title_fontsize=14)\n",
        "plt.grid(True)\n",
        "plt.show()"
      ],
      "metadata": {
        "id": "TdPTWpAVphqO"
      },
      "execution_count": null,
      "outputs": []
    },
    {
      "cell_type": "code",
      "source": [
        "# Removing outlier\n",
        "# Calculate the 95th percentile for ADR to filter out outliers\n",
        "upper_limit = df_without_duplicates['adr'].quantile(0.95)\n",
        "\n",
        "# Filter out the outliers\n",
        "df_filtered = df_without_duplicates[df_without_duplicates['adr'] <= upper_limit]\n",
        "\n",
        "# Create the scatter plot\n",
        "plt.figure(figsize=(14, 8))\n",
        "sns.scatterplot(data=df_filtered, x='lead_time', y='adr', hue='market_segment', palette='Set2', alpha=0.7)\n",
        "\n",
        "# Add titles and labels\n",
        "plt.title('Lead Time vs. ADR by Market Segment', fontsize=16)\n",
        "plt.xlabel('Lead Time (days)', fontsize=14)\n",
        "plt.ylabel('ADR (Average Daily Rate)', fontsize=14)\n",
        "plt.legend(title='Market Segment', fontsize=12, title_fontsize=14)\n",
        "plt.grid(True)\n",
        "plt.show()"
      ],
      "metadata": {
        "id": "yoIEAGpf1-p1"
      },
      "execution_count": null,
      "outputs": []
    },
    {
      "cell_type": "markdown",
      "source": [
        "##### 1. Why did you pick the specific chart?"
      ],
      "metadata": {
        "id": "jj7wYXLtphqO"
      }
    },
    {
      "cell_type": "markdown",
      "source": [
        "The scatter plot allows us to examine the relationship between two continuous variables (Lead Time and ADR), which is essential for understanding how booking patterns (lead times) affect pricing (ADR).\n",
        "\n",
        "Scatter plots are effective for identifying outliers and understanding their impact on the data, which is crucial for cleaning and preparing data for further analysis."
      ],
      "metadata": {
        "id": "Ob8u6rCTphqO"
      }
    },
    {
      "cell_type": "markdown",
      "source": [
        "##### 2. What is/are the insight(s) found from the chart?"
      ],
      "metadata": {
        "id": "eZrbJ2SmphqO"
      }
    },
    {
      "cell_type": "markdown",
      "source": [
        "General Trend:\n",
        "\n",
        "There appears to be a wide range of ADR values across different lead times, but the majority of the ADR values are clustered below 100, with a significant concentration below 50.\n",
        "Market Segment Distribution:\n",
        "\n",
        "Direct bookings (light green): These tend to have shorter lead times and are spread across the ADR range.\n",
        "Corporate bookings (pink): These bookings have relatively short lead times and a high density in the lower ADR range.\n",
        "Online TA (Travel Agent) (blue): These bookings are dispersed widely in terms of lead time and ADR, indicating a mix of booking behaviors.\n",
        "Offline TA/TO (yellow): These bookings have longer lead times compared to other segments and tend to have lower ADR values. They form distinct bands, especially beyond 100 days of lead time, suggesting group bookings or tour packages.\n",
        "Complementary (grey): These bookings are minimal and scattered across the plot.\n",
        "Groups (orange): These tend to have longer lead times and higher ADR values, possibly due to bulk or event bookings.\n",
        "Undefined (dark grey) and Aviation (light yellow): These have relatively few data points and do not show distinct patterns.\n",
        "Lead Time Influence:\n",
        "\n",
        "For most market segments, bookings with longer lead times tend to have lower ADRs. This trend is especially noticeable for the Offline TA/TO and Groups segments.\n",
        "Short lead times (<100 days) have a higher variance in ADR, indicating a mix of last-minute and regular bookings with varied pricing strategies.\n",
        "Clusters and Patterns:\n",
        "\n",
        "There are distinct horizontal bands in the Offline TA/TO segment, which suggests standardized pricing for bookings made well in advance.\n",
        "Groups and Offline TA/TO segments also show vertical clustering at specific lead times, hinting at bulk bookings or specific deals offered at those times.\n",
        "Booking Behavior:\n",
        "\n",
        "Direct and Corporate bookings tend to have shorter lead times and lower ADRs, suggesting last-minute or short-term planning typical of business or immediate personal travel.\n",
        "Online TA bookings exhibit a diverse range of lead times and ADRs, highlighting varied consumer behaviors in using online platforms for bookings"
      ],
      "metadata": {
        "id": "mZtgC_hjphqO"
      }
    },
    {
      "cell_type": "markdown",
      "source": [
        "##### 3. Will the gained insights help creating a positive business impact?\n",
        "Are there any insights that lead to negative growth? Justify with specific reason."
      ],
      "metadata": {
        "id": "rFu4xreNphqO"
      }
    },
    {
      "cell_type": "markdown",
      "source": [
        "Revenue Management:\n",
        "\n",
        "Dynamic Pricing: Understanding how lead times affect ADR for different segments can help in implementing dynamic pricing strategies. For instance, offering discounts for early bookings in segments that tend to book late can increase occupancy.\n",
        "\n",
        "Yield Optimization: Identifying high ADR segments with longer lead times (e.g., Groups) can help in optimizing yield by targeting these segments with tailored offers.\n",
        "\n",
        "Marketing and Sales Strategies:\n",
        "\n",
        "Targeted Campaigns: Insights into booking patterns allow for more effective marketing campaigns. For instance, targeting corporate and direct bookings with last-minute deals can help fill vacancies.\n",
        "Segment-Specific Promotions: Offering special deals to segments with distinct booking behaviors (e.g., Offline TA/TO with long lead times) can increase booking rates and customer loyalty.\n",
        "\n",
        "Inventory Management:\n",
        "\n",
        "Predictive Planning: By understanding booking trends, hotels can better predict occupancy and manage inventory accordingly. For example, knowing that certain segments book well in advance allows for better resource allocation.\n",
        "\n",
        "Customer Experience:\n",
        "\n",
        "Personalized Offers: Customizing offers based on segment behavior (e.g., higher ADR for long-lead-time bookings) enhances the customer experience and satisfaction, leading to positive reviews and repeat business.\n",
        "Improved Communication: Tailoring communication strategies based on lead times and booking behaviors ensures that customers receive relevant and timely information, enhancing their overall experience.\n",
        "\n",
        "Operational Efficiency:\n",
        "\n",
        "Resource Allocation: Understanding booking patterns helps in planning staffing and other operational resources more effectively, reducing costs and improving service quality."
      ],
      "metadata": {
        "id": "ey_0qi68phqO"
      }
    },
    {
      "cell_type": "markdown",
      "source": [
        "#### Chart - 14)Lead Time vs. ADR by Distribution Channel"
      ],
      "metadata": {
        "id": "YJ55k-q6phqO"
      }
    },
    {
      "cell_type": "code",
      "source": [
        "# Chart - 9 visualization code\n",
        "# Calculate the 95th percentile for ADR to filter out outliers\n",
        "upper_limit = df_without_duplicates['adr'].quantile(0.95)\n",
        "\n",
        "# Filter out the outliers\n",
        "df_filtered = df_without_duplicates[df_without_duplicates['adr'] <= upper_limit]\n",
        "\n",
        "# Create the scatter plot\n",
        "plt.figure(figsize=(14, 8))\n",
        "sns.scatterplot(data=df_filtered, x='lead_time', y='adr', hue='distribution_channel', palette='Set2', alpha=0.7)\n",
        "\n",
        "# Add titles and labels\n",
        "plt.title('Lead Time vs. ADR by Distribution Channel', fontsize=16)\n",
        "plt.xlabel('Lead Time (days)', fontsize=14)\n",
        "plt.ylabel('ADR (Average Daily Rate)', fontsize=14)\n",
        "plt.legend(title='Distribution Channel', fontsize=12, title_fontsize=14)\n",
        "plt.grid(True)\n",
        "plt.show()"
      ],
      "metadata": {
        "id": "B2aS4O1ophqO"
      },
      "execution_count": null,
      "outputs": []
    },
    {
      "cell_type": "markdown",
      "source": [
        "##### 1. Why did you pick the specific chart?"
      ],
      "metadata": {
        "id": "gCFgpxoyphqP"
      }
    },
    {
      "cell_type": "markdown",
      "source": [
        "The scatter plot effectively visualizes the relationship between two continuous variables: Lead Time and ADR (Average Daily Rate). This is essential for understanding how the time between booking and stay (lead time) affects pricing (ADR)."
      ],
      "metadata": {
        "id": "TVxDimi2phqP"
      }
    },
    {
      "cell_type": "markdown",
      "source": [
        "##### 2. What is/are the insight(s) found from the chart?"
      ],
      "metadata": {
        "id": "OVtJsKN_phqQ"
      }
    },
    {
      "cell_type": "markdown",
      "source": [
        "Lead Time and ADR Relationship:\n",
        "Most bookings have a lead time of fewer than 100 days and an ADR of less than 100, indicating a concentration of short lead time, low-to-moderate pricing bookings.\n",
        "There are several long lead-time bookings (over 300 days), but these are less common and typically have a range of ADR values.\n",
        "Distribution Channel-Specific Insights:\n",
        "Direct (blue):\n",
        "\n",
        "This channel has a wide range of lead times, from very short to over 700 days.\n",
        "Direct bookings tend to cover a broad spectrum of ADR values but are mostly concentrated below 100.\n",
        "Corporate (orange):\n",
        "\n",
        "Corporate bookings generally have shorter lead times, often below 200 days.\n",
        "The ADR for corporate bookings varies but generally remains under 100, with a few exceptions.\n",
        "TA/TO (grey):\n",
        "\n",
        "Travel Agent/Tour Operator (TA/TO) bookings show a wide range of lead times, from very short to over 700 days.\n",
        "These bookings are densely clustered below 100 ADR but also show several higher ADR values, particularly for bookings with longer lead times.\n",
        "Undefined (pink):\n",
        "\n",
        "This channel has fewer data points and does not show a clear pattern, indicating it might not be a major distribution channel or could be a catch-all category for miscellaneous bookings.\n",
        "ADR values for this channel are relatively low, generally below 100.\n",
        "GDS (green):\n",
        "\n",
        "Global Distribution System (GDS) bookings are concentrated below 300 days of lead time.\n",
        "ADR values for GDS are typically under 100, with very few exceptions.\n",
        "Clusters and Patterns:\n",
        "Low ADR Clusters:\n",
        "\n",
        "Across all channels, there is a noticeable cluster of bookings with ADR below 50, suggesting a competitive pricing strategy for many bookings.\n",
        "These clusters indicate high volume but potentially lower revenue per booking.\n",
        "High ADR Outliers:\n",
        "\n",
        "There are several outliers with high ADR values (above 150) across different channels, which could indicate premium or special event bookings.\n",
        "These high ADR outliers are more common with longer lead times, suggesting that bookings made well in advance might secure higher rates"
      ],
      "metadata": {
        "id": "ngGi97qjphqQ"
      }
    },
    {
      "cell_type": "markdown",
      "source": [
        "##### 3. Will the gained insights help creating a positive business impact?\n",
        "Are there any insights that lead to negative growth? Justify with specific reason."
      ],
      "metadata": {
        "id": "lssrdh5qphqQ"
      }
    },
    {
      "cell_type": "markdown",
      "source": [
        "Revenue Management\n",
        "Dynamic Pricing Strategies:\n",
        "\n",
        "Early Bird Discounts: Offering discounts for bookings made well in advance, especially for channels like TA/TO and Direct, where longer lead times are common.\n",
        "Last-Minute Deals: Implementing higher ADR for last-minute bookings on channels that tend to have shorter lead times like Corporate and GDS.\n",
        "Yield Optimization:\n",
        "\n",
        "Premium Pricing: Identifying high ADR outliers and understanding the conditions under which these bookings occur can help in setting premium prices for similar conditions in the future.\n",
        "Segment-Based Pricing: Tailoring pricing strategies based on the distribution channel to maximize revenue per booking.\n",
        "Marketing and Sales Strategies\n",
        "Targeted Marketing Campaigns:\n",
        "\n",
        "Channel-Specific Promotions: Running targeted campaigns for different distribution channels. For example, offering exclusive deals for Direct and TA/TO channels to leverage their broader range of lead times and ADRs.\n",
        "Business-Focused Offers: Creating special offers for Corporate and GDS channels with shorter lead times to attract business travelers and last-minute bookers.\n",
        "Customer Retention Programs:\n",
        "\n",
        "Loyalty Programs: Developing loyalty programs for channels with high booking frequencies or higher ADRs to encourage repeat bookings"
      ],
      "metadata": {
        "id": "tBpY5ekJphqQ"
      }
    },
    {
      "cell_type": "markdown",
      "source": [
        "#### Chart - 15)Stays in Weekend Nights vs. ADR by Market Segment"
      ],
      "metadata": {
        "id": "U2RJ9gkRphqQ"
      }
    },
    {
      "cell_type": "code",
      "source": [
        "# Chart - 10 visualization code\n",
        "# Calculate the 95th percentile for ADR to filter out outliers\n",
        "upper_limit = hotel_data_df['adr'].quantile(0.95)\n",
        "\n",
        "# Filter out the outliers\n",
        "df_filtered = hotel_data_df[hotel_data_df['adr'] <= upper_limit]\n",
        "\n",
        "# Create the scatter plot\n",
        "plt.figure(figsize=(14, 8))\n",
        "sns.scatterplot(data=df_filtered, x='stays_in_weekend_nights', y='adr', hue='market_segment', palette='Set2', alpha=0.7)\n",
        "\n",
        "# Add titles and labels\n",
        "plt.title('Stays in Weekend Nights vs. ADR by Market Segment', fontsize=16)\n",
        "plt.xlabel('Stays in Weekend Nights', fontsize=14)\n",
        "plt.ylabel('ADR (Average Daily Rate)', fontsize=14)\n",
        "plt.legend(title='Market Segment', fontsize=12, title_fontsize=14)\n",
        "plt.grid(True)\n",
        "plt.show()"
      ],
      "metadata": {
        "id": "GM7a4YP4phqQ"
      },
      "execution_count": null,
      "outputs": []
    },
    {
      "cell_type": "markdown",
      "source": [
        "##### 1. Why did you pick the specific chart?"
      ],
      "metadata": {
        "id": "1M8mcRywphqQ"
      }
    },
    {
      "cell_type": "markdown",
      "source": [],
      "metadata": {
        "id": "8agQvks0phqQ"
      }
    },
    {
      "cell_type": "markdown",
      "source": [
        "##### 2. What is/are the insight(s) found from the chart?"
      ],
      "metadata": {
        "id": "tgIPom80phqQ"
      }
    },
    {
      "cell_type": "markdown",
      "source": [
        "Insights from the Chart\n",
        "Distribution of Weekend Stays:\n",
        "\n",
        "Most bookings have fewer than 5 weekend nights, with a significant concentration around 0 to 3 nights.\n",
        "There are few bookings with more than 10 weekend nights, suggesting that extended weekend stays are rare.\n",
        "ADR Patterns:\n",
        "\n",
        "The ADR varies widely across different market segments for stays up to 5 weekend nights.\n",
        "There are higher ADR values observed in certain segments for stays of 2.5 weekend nights.\n",
        "Beyond 5 weekend nights, the ADR appears to be more evenly distributed but with fewer data points.\n",
        "Market Segment Differences:\n",
        "\n",
        "Direct (blue) and Online TA (pink) channels show a wide range of ADR values across various weekend night stays.\n",
        "Corporate (orange) and Groups (yellow) tend to have lower ADR values for weekend stays.\n",
        "Offline TA/TO (purple) shows a mixture of lower and higher ADRs, indicating variability in pricing strategies.\n",
        "Complementary (light yellow) and Aviation (gray) segments have lower ADR values, suggesting these bookings might be heavily discounted or subsidized"
      ],
      "metadata": {
        "id": "Qp13pnNzphqQ"
      }
    },
    {
      "cell_type": "markdown",
      "source": [
        "##### 3. Will the gained insights help creating a positive business impact?\n",
        "Are there any insights that lead to negative growth? Justify with specific reason."
      ],
      "metadata": {
        "id": "JMzcOPDDphqR"
      }
    },
    {
      "cell_type": "markdown",
      "source": [
        "The insights gained from the scatter plot of Stays in Weekend Nights vs. ADR by Market Segment can significantly help in strategic decision-making. By leveraging these insights, hotels can optimize their pricing, marketing, and operational strategies, ultimately leading to increased revenue, improved customer satisfaction, and enhanced overall business performance.\n",
        "\n",
        "\n",
        "\n",
        "\n",
        "\n",
        "\n"
      ],
      "metadata": {
        "id": "R4Ka1PC2phqR"
      }
    },
    {
      "cell_type": "markdown",
      "source": [
        "#### Chart - 16)Stays in Week Nights vs. ADR by Distribution Channel"
      ],
      "metadata": {
        "id": "x-EpHcCOp1ci"
      }
    },
    {
      "cell_type": "code",
      "source": [
        "# Chart - 11 visualization code\n",
        "# Calculate the 95th percentile for ADR to filter out outliers\n",
        "upper_limit = hotel_data_df['adr'].quantile(0.95)\n",
        "\n",
        "# Filter out the outliers\n",
        "df_filtered = hotel_data_df[hotel_data_df['adr'] <= upper_limit]\n",
        "\n",
        "# Create the scatter plot\n",
        "plt.figure(figsize=(14, 8))\n",
        "sns.scatterplot(data=df_filtered, x='stays_in_week_nights', y='adr', hue='distribution_channel', palette='Set2', alpha=0.7)\n",
        "\n",
        "# Add titles and labels\n",
        "plt.title('Stays in Week Nights vs. ADR by Distribution Channel', fontsize=16)\n",
        "plt.xlabel('Stays in Week Nights', fontsize=14)\n",
        "plt.ylabel('ADR (Average Daily Rate)', fontsize=14)\n",
        "plt.legend(title='Distribution Channel', fontsize=12, title_fontsize=14)\n",
        "plt.grid(True)\n",
        "plt.show()"
      ],
      "metadata": {
        "id": "mAQTIvtqp1cj"
      },
      "execution_count": null,
      "outputs": []
    },
    {
      "cell_type": "markdown",
      "source": [
        "##### 1. Why did you pick the specific chart?"
      ],
      "metadata": {
        "id": "X_VqEhTip1ck"
      }
    },
    {
      "cell_type": "markdown",
      "source": [
        "Detailed Segmentation Analysis:\n",
        "\n",
        "The scatter plot allows for a detailed analysis of how different distribution channels impact both the number of weeknight stays and the associated ADR. This granular view helps identify specific patterns and behaviors within each channel.\n",
        "\n",
        "Identifying Revenue Opportunities:\n",
        "\n",
        "By visualizing ADR against the number of weeknight stays, hotels can identify which channels are willing to pay more for longer weeknight stays. This information is crucial for developing targeted pricing strategies.\n",
        "\n",
        "Visual Clarity:\n",
        "\n",
        "Scatter plots provide clear visual distinctions between different data points, making it easy to spot trends, outliers, and clusters. The use of colors to represent distribution channels adds an additional layer of clarity."
      ],
      "metadata": {
        "id": "-vsMzt_np1ck"
      }
    },
    {
      "cell_type": "markdown",
      "source": [
        "##### 2. What is/are the insight(s) found from the chart?"
      ],
      "metadata": {
        "id": "8zGJKyg5p1ck"
      }
    },
    {
      "cell_type": "markdown",
      "source": [
        "1. Distribution of Weeknight Stays:\n",
        "\n",
        "Most bookings have fewer than 10 weeknights, with a significant concentration around 0 to 5 nights.\n",
        "There are fewer bookings with more than 10 weeknights, indicating that extended stays during weekdays are less common.\n",
        "\n",
        "2. ADR Patterns:\n",
        "\n",
        "The ADR varies across different distribution channels for stays up to 10 weeknights.\n",
        "Higher ADR values are observed in certain channels for stays of up to 10 weeknights.\n",
        "Beyond 10 weeknights, the ADR appears to be more evenly distributed but with fewer data points.\n",
        "\n",
        "3. Distribution Channel Differences:\n",
        "\n",
        "Direct and TA/TO channels show a wide range of ADR values across various weeknight stays.\n",
        "Corporate and GDS tend to have lower ADR values for weeknight stays.\n",
        "Undefined channel shows a mixture of lower and higher ADRs, indicating variability in pricing strategies."
      ],
      "metadata": {
        "id": "ZYdMsrqVp1ck"
      }
    },
    {
      "cell_type": "markdown",
      "source": [
        "##### 3. Will the gained insights help creating a positive business impact?\n",
        "Are there any insights that lead to negative growth? Justify with specific reason."
      ],
      "metadata": {
        "id": "PVzmfK_Ep1ck"
      }
    },
    {
      "cell_type": "markdown",
      "source": [
        "The insights gained from the scatter plot of Stays in Week Nights vs. ADR by Distribution Channel can significantly help in strategic decision-making. By leveraging these insights, hotels can optimize their pricing, marketing, and operational strategies, ultimately leading to increased revenue, improved customer satisfaction, and enhanced overall business performance."
      ],
      "metadata": {
        "id": "druuKYZpp1ck"
      }
    },
    {
      "cell_type": "markdown",
      "source": [
        "#### Chart - 17) Market Segment vs. ADR by reservation_status"
      ],
      "metadata": {
        "id": "n3dbpmDWp1ck"
      }
    },
    {
      "cell_type": "code",
      "source": [
        "# Chart - 12 visualization code\n",
        "# Calculate the 95th percentile for ADR to filter out outliers\n",
        "upper_limit = df_without_duplicates['adr'].quantile(0.95)\n",
        "\n",
        "# Filter out the outliers\n",
        "df_filtered = df_without_duplicates[df_without_duplicates['adr'] <= upper_limit]\n",
        "\n",
        "# Create the box plot\n",
        "plt.figure(figsize=(14, 8))\n",
        "sns.boxplot(data=df_filtered, x='market_segment', y='adr', hue='reservation_status', palette='Set2')\n",
        "\n",
        "# Add titles and labels\n",
        "plt.title('Market Segment vs. ADR by reservation_status', fontsize=16)\n",
        "plt.xlabel('Market Segment', fontsize=14)\n",
        "plt.ylabel('ADR (Average Daily Rate)', fontsize=14)\n",
        "plt.legend(title='reservation_status', fontsize=12, title_fontsize=14)\n",
        "plt.xticks(rotation=45)\n",
        "plt.grid(True)\n",
        "plt.show()"
      ],
      "metadata": {
        "id": "bwevp1tKp1ck"
      },
      "execution_count": null,
      "outputs": []
    },
    {
      "cell_type": "markdown",
      "source": [
        "##### 1. Why did you pick the specific chart?"
      ],
      "metadata": {
        "id": "ylSl6qgtp1ck"
      }
    },
    {
      "cell_type": "markdown",
      "source": [
        "chose the box plot chart to display the relationship between market segments and the Average Daily Rate (ADR) segmented by reservation_status because it provides a clear and comprehensive visualization of the data distribution. Box plots are particularly effective for highlighting the central tendency, spread, and outliers within each category, making it easier to compare ADR across different market segments and reservation_statuses (Check-Out, Canceled, No-Show)."
      ],
      "metadata": {
        "id": "m2xqNkiQp1ck"
      }
    },
    {
      "cell_type": "markdown",
      "source": [
        "##### 2. What is/are the insight(s) found from the chart?"
      ],
      "metadata": {
        "id": "ZWILFDl5p1ck"
      }
    },
    {
      "cell_type": "markdown",
      "source": [
        "\n",
        "Numerical Insights from the Chart\n",
        "\n",
        "*Direct Bookings:*\n",
        "\n",
        "Check-Out: The median ADR is around 150, with a range from approximately 50 to 250.\n",
        "Canceled: The median ADR is slightly lower than Check-Out, around 120, with a similar range.\n",
        "\n",
        "No-Show: The median ADR is lower than both Check-Out and Canceled, around 100, but with a wider range extending from around 50 to 200.\n",
        "\n",
        "*Corporate Bookings:*\n",
        "\n",
        "Check-Out: The median ADR is around 100, with a relatively narrow range from approximately 80 to 150.\n",
        "\n",
        "Canceled: The median ADR is similar to Check-Out, slightly lower, with a range from 60 to 120.\n",
        "\n",
        "No-Show: The median ADR is around 90, with a similar range as Canceled.\n",
        "Online Travel Agency (OTA):\n",
        "\n",
        "Check-Out: The median ADR is around 130, with a range from approximately 50 to 220.\n",
        "\n",
        "Canceled: The median ADR is around 110, with a similar wide range.\n",
        "\n",
        "No-Show: The median ADR is around 100, with a broad range extending from approximately 30 to 200.\n",
        "\n",
        "*Offline TA/TO:*\n",
        "\n",
        "Check-Out: The median ADR is around 100, with a wide range from approximately 30 to 200.\n",
        "\n",
        "Canceled: The median ADR is lower, around 90, with a similar range.\n",
        "No-Show: The median ADR is around 70, with a range from 20 to 150.\n",
        "Complementary:\n",
        "\n",
        "Check-Out: The ADR is consistently low, around 0 to 20.\n",
        "Canceled and No-Show: These are not prominent in complementary bookings.\n",
        "Groups:\n",
        "\n",
        "Check-Out: The median ADR is around 90, with a range from approximately 20 to 150.\n",
        "\n",
        "Canceled: The median ADR is similar, around 70, but with a wider range.\n",
        "No-Show: The median ADR is around 60, with a broad range from approximately 20 to 130.\n",
        "\n",
        "*Undefined:*\n",
        "\n",
        "Check-Out: The median ADR is around 60, with a range from approximately 0 to 100.\n",
        "Canceled and No-Show: These show significant variability, but data points are fewer, making it less reliable.\n",
        "\n",
        "*Aviation:*\n",
        "\n",
        "Check-Out: The median ADR is around 170, with a narrow range from approximately 150 to 190.\n",
        "Canceled: The median ADR is slightly lower, around 160.\n",
        "No-Show: The median ADR is lower, around 140, with a range from approximately 100 to 180.\n",
        "\n",
        "\n",
        "**Critical Findings**\n",
        "\n",
        "Higher ADR for Direct Bookings: Direct bookings tend to have the highest median ADR across all reservation_statuses, indicating a potentially lucrative segment.\n",
        "\n",
        "Consistency in Corporate Bookings: Corporate bookings show relatively consistent ADRs, suggesting stable pricing strategies.\n",
        "\n",
        "Variability in OTA Bookings: OTA bookings exhibit high variability in ADR, particularly for cancellations and no-shows, indicating potential areas for revenue optimization.\n",
        "\n",
        "Low ADR in Complementary Bookings: Complementary bookings have the lowest ADR, as expected.\n",
        "\n",
        "Significant ADR Range in Groups: Group bookings show wide ADR ranges, suggesting diverse pricing based on group size or booking conditions.\n",
        "\n",
        "High ADR in Aviation Segment: The aviation segment shows consistently high ADR, making it a high-value segment despite fewer bookings."
      ],
      "metadata": {
        "id": "x-lUsV2mp1ck"
      }
    },
    {
      "cell_type": "markdown",
      "source": [
        "##### 3. Will the gained insights help creating a positive business impact?\n",
        "Are there any insights that lead to negative growth? Justify with specific reason."
      ],
      "metadata": {
        "id": "M7G43BXep1ck"
      }
    },
    {
      "cell_type": "markdown",
      "source": [
        "Yes, the insights gained from this chart can help create a positive business impact in several ways:\n",
        "\n",
        "Pricing Strategy: By understanding the ADR variations across different market segments and reservation_statuses, the business can adjust its pricing strategies to maximize revenue.\n",
        "\n",
        "Targeted Marketing: The data can help in identifying which segments are more prone to cancellations or no-shows, allowing the business to create targeted marketing campaigns to reduce these occurrences.\n",
        "\n",
        "Revenue Management: Insights into ADR distributions enable more accurate forecasting and optimization of room rates, leading to improved revenue management.\n",
        "\n",
        "Operational Efficiency: By recognizing patterns in reservation_statuses, the business can streamline operations and improve resource allocation, especially in handling cancellations and no-shows.\n",
        "\n",
        "Customer Experience: Understanding the differences in ADR and reservation_statuses can help tailor customer experiences and loyalty programs to different segments, enhancing overall satisfaction and retention."
      ],
      "metadata": {
        "id": "5wwDJXsLp1cl"
      }
    },
    {
      "cell_type": "markdown",
      "source": [
        "#### Chart - 18)Distribution Channel vs. ADR by reservation_status"
      ],
      "metadata": {
        "id": "Ag9LCva-p1cl"
      }
    },
    {
      "cell_type": "code",
      "source": [
        "# Chart - 13 visualization code\n",
        "# Creating the boxplot\n",
        "plt.figure(figsize=(12, 6))\n",
        "sns.boxplot(x='distribution_channel', y='adr', hue='reservation_status', data=df_without_duplicates)\n",
        "plt.title('distribution_channel vs. adr  by reservation_status')\n",
        "plt.xlabel('distribution_channel')\n",
        "plt.ylabel('adr (Average Daily Rate)')\n",
        "plt.legend(title='reservation_status')\n",
        "plt.xticks(rotation=45)\n",
        "plt.tight_layout()\n",
        "plt.show()"
      ],
      "metadata": {
        "id": "EUfxeq9-p1cl"
      },
      "execution_count": null,
      "outputs": []
    },
    {
      "cell_type": "code",
      "source": [
        "#With filtered outlier\n",
        "# Filter out the outliers\n",
        "df_filtered = df_without_duplicates[df_without_duplicates['adr'] <= upper_limit]\n",
        "\n",
        "# Creating the boxplot\n",
        "plt.figure(figsize=(12, 6))\n",
        "sns.boxplot(x='distribution_channel', y='adr', hue='reservation_status', data=df_filtered)\n",
        "plt.title('distribution_channel vs. adr  by reservation_status')\n",
        "plt.xlabel('distribution_channel')\n",
        "plt.ylabel('adr (Average Daily Rate)')\n",
        "plt.legend(title='reservation_status')\n",
        "plt.xticks(rotation=45)\n",
        "plt.tight_layout()\n",
        "plt.show()"
      ],
      "metadata": {
        "id": "pRNwaYMvP_XB"
      },
      "execution_count": null,
      "outputs": []
    },
    {
      "cell_type": "markdown",
      "source": [
        "##### 1. Why did you pick the specific chart?"
      ],
      "metadata": {
        "id": "E6MkPsBcp1cl"
      }
    },
    {
      "cell_type": "markdown",
      "source": [
        "It visualizes how reservation status (Check-Out, Canceled, No-Show) impacts ADR within each distribution channel."
      ],
      "metadata": {
        "id": "V22bRsFWp1cl"
      }
    },
    {
      "cell_type": "markdown",
      "source": [
        "##### 2. What is/are the insight(s) found from the chart?"
      ],
      "metadata": {
        "id": "2cELzS2fp1cl"
      }
    },
    {
      "cell_type": "markdown",
      "source": [
        "Numerical Insights\n",
        "Direct Channel:\n",
        "\n",
        "Median ADR for Check-Out: ~100\n",
        "Median ADR for Canceled: ~100\n",
        "Median ADR for No-Show: ~90\n",
        "The ADR for Check-Out and Canceled reservations is quite similar.\n",
        "No-Show ADR is slightly lower than Check-Out and Canceled reservations.\n",
        "\n",
        "Corporate Channel:\n",
        "\n",
        "Median ADR for Check-Out: ~110\n",
        "Median ADR for Canceled: ~100\n",
        "Median ADR for No-Show: ~80\n",
        "\n",
        "The ADR for Check-Out reservations is higher compared to Canceled and No-Show reservations.\n",
        "No-Show ADR is the lowest among the three statuses.\n",
        "\n",
        "TA/TO Channel:\n",
        "\n",
        "Median ADR for Check-Out: ~120\n",
        "Median ADR for Canceled: ~80\n",
        "Median ADR for No-Show: ~90\n",
        "\n",
        "There is a notable decrease in ADR for Canceled reservations compared to Check-Out.\n",
        "No-Show ADR is slightly higher than Canceled but lower than Check-Out\n",
        "\n",
        "Undefined Channel:\n",
        "\n",
        "Median ADR for Canceled: ~50 (no data for Check-Out or No-Show)\n",
        "Only Canceled reservations are present with a very low ADR.\n",
        "\n",
        "GDS Channel:\n",
        "\n",
        "Median ADR for Check-Out: ~130  ,\n",
        "Median ADR for Canceled: ~125  ,\n",
        "Median ADR for No-Show: ~110   ,\n",
        "\n",
        "Check-Out and Canceled reservations have a similar ADR.\n",
        "No-Show ADR is slightly lower than Check-Out and Canceled reservations."
      ],
      "metadata": {
        "id": "ozQPc2_Ip1cl"
      }
    },
    {
      "cell_type": "markdown",
      "source": [
        "##### 3. Will the gained insights help creating a positive business impact?\n",
        "Are there any insights that lead to negative growth? Justify with specific reason."
      ],
      "metadata": {
        "id": "3MPXvC8up1cl"
      }
    },
    {
      "cell_type": "markdown",
      "source": [
        "The insights gained can help in creating a positive business impact in several ways:\n",
        "\n",
        "Pricing Strategies: Understanding ADR variations across channels and reservation statuses can inform better pricing strategies to maximize revenue.\n",
        "\n",
        "Channel Management: Identifying channels with high ADR for Check-Outs can help prioritize marketing and sales efforts towards these channels.\n",
        "\n",
        "Cancellation Policies: Insights into ADR differences between Canceled and Check-Out reservations can help in refining cancellation policies to reduce revenue loss.\n",
        "\n",
        "Targeted Promotions: Channels with high No-Show rates and lower ADRs can be targeted with promotions or incentives to convert potential cancellations into Check-Outs.\n",
        "\n",
        "By leveraging these insights, the business can enhance its revenue management and improve overall profitability"
      ],
      "metadata": {
        "id": "GL8l1tdLp1cl"
      }
    },
    {
      "cell_type": "markdown",
      "source": [
        "#### Chart - 19) Lead Time vs. ADR by Reservation Status"
      ],
      "metadata": {
        "id": "NC_X3p0fY2L0"
      }
    },
    {
      "cell_type": "code",
      "source": [
        "# Correlation Heatmap visualization code\n",
        "# Remove outliers using IQR method\n",
        "Q1 = df_without_duplicates['adr'].quantile(0.25)\n",
        "Q3 = df_without_duplicates['adr'].quantile(0.75)\n",
        "IQR = Q3 - Q1\n",
        "lower_bound = Q1 - 1.5 * IQR\n",
        "upper_bound = Q3 + 1.5 * IQR\n",
        "\n",
        "df_without_outliers = df_without_duplicates[(df_without_duplicates['adr'] >= lower_bound) & (df_without_duplicates['adr'] <= upper_bound)]\n",
        "\n",
        "# Scatter plot with trend lines without outliers\n",
        "plt.figure(figsize=(12, 8))\n",
        "sns.scatterplot(data=df_without_outliers, x='lead_time', y='adr', hue='reservation_status')\n",
        "sns.lineplot(data=df_without_outliers, x='lead_time', y='adr', hue='reservation_status', estimator='mean', errorbar=None)\n",
        "plt.title('Lead Time vs. ADR by Reservation Status')\n",
        "plt.xlabel('Lead Time (days)')\n",
        "plt.ylabel('ADR (Average Daily Rate)')\n",
        "plt.show()"
      ],
      "metadata": {
        "id": "xyC9zolEZNRQ"
      },
      "execution_count": null,
      "outputs": []
    },
    {
      "cell_type": "markdown",
      "source": [
        "##### 1. Why did you pick the specific chart?"
      ],
      "metadata": {
        "id": "UV0SzAkaZNRQ"
      }
    },
    {
      "cell_type": "markdown",
      "source": [
        "Scatter Plot with Trend Lines: This chart effectively displays individual data points and trend lines for ADR across different lead times segmented by reservation status. It allows for the visualization of patterns and trends over a continuous range of lead times.\n",
        "\n",
        "Clarity and Detail: The scatter plot captures the variability within each reservation status group and highlights trends that might be obscured in aggregated data."
      ],
      "metadata": {
        "id": "DVPuT8LYZNRQ"
      }
    },
    {
      "cell_type": "markdown",
      "source": [
        "##### 2. What is/are the insight(s) found from the chart?"
      ],
      "metadata": {
        "id": "YPEH6qLeZNRQ"
      }
    },
    {
      "cell_type": "markdown",
      "source": [
        "Check-Out Reservations:\n",
        "\n",
        "Average ADR for lead time 0-100 days: ~100-150\n",
        "\n",
        "Average ADR for lead time 100-300 days: ~100-130\n",
        "\n",
        "Average ADR for lead time >300 days: ~80-100\n",
        "\n",
        "\n",
        "Canceled Reservations:\n",
        "\n",
        "Average ADR for lead time 0-100 days: ~80-130\n",
        "\n",
        "Average ADR for lead time 100-300 days: ~60-100\n",
        "\n",
        "Average ADR for lead time >300 days: ~40-60\n",
        "\n",
        "\n",
        "No-Show Reservations:\n",
        "\n",
        "Average ADR for lead time 0-100 days: ~80-120\n",
        "\n",
        "Average ADR for lead time 100-300 days: ~70-100\n",
        "\n",
        "Average ADR for lead time >300 days: ~50-70\n",
        "\n",
        "Interpretation:\n",
        "\n",
        "\n",
        "Check-Out Reservations: Tend to have higher ADRs, which decrease slightly with increasing lead time.\n",
        "\n",
        "Canceled Reservations: Show a significant decrease in ADR as lead time increases.\n",
        "\n",
        "No-Show Reservations: Have lower and more fluctuating ADRs compared to Check-Out reservations."
      ],
      "metadata": {
        "id": "bfSqtnDqZNRR"
      }
    },
    {
      "cell_type": "markdown",
      "source": [
        "3. Will the gained insights help creating a positive business impact?\n",
        "\n",
        "Are there any insights that lead to negative growth? Justify with specific reason."
      ],
      "metadata": {
        "id": "bHZrOP-Ia-3t"
      }
    },
    {
      "cell_type": "markdown",
      "source": [
        "Positive Business Impact\n",
        "\n",
        "Pricing Strategies: Insights into how ADR changes with lead time can help in setting dynamic pricing strategies to maximize revenue.\n",
        "\n",
        "Revenue Management: Understanding the relationship between lead time and ADR for different reservation statuses can aid in better forecasting and inventory management.\n",
        "\n",
        "Marketing Strategies: Targeted marketing efforts can be tailored to optimize booking patterns based on lead time and expected ADR."
      ],
      "metadata": {
        "id": "551Huz2Ea1aM"
      }
    },
    {
      "cell_type": "markdown",
      "source": [
        "#### Chart - 20) Customer Type Cancellations by Month"
      ],
      "metadata": {
        "id": "q29F0dvdveiT"
      }
    },
    {
      "cell_type": "code",
      "source": [
        "# Create a pivot table to count cancellations by customer type and month\n",
        "pivot_table = df_without_duplicates[df_without_duplicates['is_canceled'] == 1].pivot_table(\n",
        "    index='arrival_date_month',\n",
        "    columns='customer_type',\n",
        "    aggfunc='size',\n",
        "    fill_value=0\n",
        ")\n",
        "\n",
        "# Ensure months are in the correct order\n",
        "months_order = ['January', 'February', 'March', 'April', 'May', 'June', 'July', 'August', 'September', 'October', 'November', 'December']\n",
        "pivot_table = pivot_table.reindex(months_order)\n",
        "\n",
        "# Plot the chart and get the Axes object\n",
        "ax = pivot_table.plot(kind='bar', stacked=True, figsize=(14, 8), colormap='tab20')\n",
        "\n",
        "# Adding labels and title\n",
        "plt.xlabel('Month')\n",
        "plt.ylabel('Count')\n",
        "plt.title('Customer Type Cancellations by Month')\n",
        "plt.legend(title='Customer Type')\n",
        "plt.xticks(rotation=45)\n",
        "\n",
        "# Adding data labels\n",
        "for container in ax.containers:\n",
        "    ax.bar_label(container, fmt='%.0f')\n",
        "\n",
        "# Display the plot\n",
        "plt.show()"
      ],
      "metadata": {
        "id": "o58-TEIhveiU"
      },
      "execution_count": null,
      "outputs": []
    },
    {
      "cell_type": "markdown",
      "source": [
        "### To prevent data labels from overlapping,adjusting their positioning and potentially limit the labels to only certain bars (like the top or middle) to improve readability. We can also make sure the labels are spaced out and avoid overlapping"
      ],
      "metadata": {
        "id": "I3Q3xMqAPJmC"
      }
    },
    {
      "cell_type": "code",
      "source": [
        "# Create a pivot table to count cancellations by customer type and month\n",
        "pivot_table = df_without_duplicates[df_without_duplicates['is_canceled'] == 1].pivot_table(\n",
        "    index='arrival_date_month',\n",
        "    columns='customer_type',\n",
        "    aggfunc='size',\n",
        "    fill_value=0\n",
        ")\n",
        "\n",
        "# Ensure months are in the correct order\n",
        "months_order = ['January', 'February', 'March', 'April', 'May', 'June', 'July', 'August', 'September', 'October', 'November', 'December']\n",
        "pivot_table = pivot_table.reindex(months_order)\n",
        "\n",
        "# Plot the chart and get the Axes object\n",
        "ax = pivot_table.plot(kind='bar', stacked=True, figsize=(14, 8), colormap='tab20')\n",
        "\n",
        "# Adding labels and title\n",
        "plt.xlabel('Month')\n",
        "plt.ylabel('Count')\n",
        "plt.title('Customer Type Cancellations by Month')\n",
        "plt.legend(title='Customer Type')\n",
        "plt.xticks(rotation=45)\n",
        "\n",
        "# Adding data labels with adjusted positioning\n",
        "for container in ax.containers:\n",
        "    # Add labels only if the height of the bar is significant to avoid cluttering\n",
        "    for i in range(len(container)):\n",
        "        height = container[i].get_height()\n",
        "        if height > 50:  # You can adjust this threshold\n",
        "            ax.text(\n",
        "                container[i].get_x() + container[i].get_width() / 2,\n",
        "                container[i].get_y() + height / 2,\n",
        "                f'{height:.0f}',\n",
        "                ha='center', va='center', color='black', fontsize=8\n",
        "            )\n",
        "\n",
        "# Display the plot\n",
        "plt.show()"
      ],
      "metadata": {
        "id": "z4SR88XPPPe-"
      },
      "execution_count": null,
      "outputs": []
    },
    {
      "cell_type": "markdown",
      "source": [
        "##### 1. Why did you pick the specific chart?"
      ],
      "metadata": {
        "id": "EXh0U9oCveiU"
      }
    },
    {
      "cell_type": "markdown",
      "source": [
        "The stacked bar chart allows for a comprehensive view of cancellations by customer type (Contract, Group, Transient, Transient-Party) across each month. This gives a clear visual representation of the distribution of cancellations over time and by customer segment."
      ],
      "metadata": {
        "id": "eMmPjTByveiU"
      }
    },
    {
      "cell_type": "markdown",
      "source": [
        "##### 2. What is/are the insight(s) found from the chart?"
      ],
      "metadata": {
        "id": "22aHeOlLveiV"
      }
    },
    {
      "cell_type": "markdown",
      "source": [
        "Peak Cancellations in August:\n",
        "\n",
        "August has the highest number of cancellations, totaling approximately 3,692. This indicates a significant drop in bookings during this month, suggesting possible seasonal or market-driven factors affecting cancellations.\n",
        "\n",
        "Monthly Trends:\n",
        "\n",
        "Low Cancellations in February: February sees the fewest cancellations (about 1,166), indicating a period with more stable bookings or fewer reservations overall.\n",
        "\n",
        "Rising Trend from January to July: There is a noticeable increase in cancellations from January (about 1,703) to July (around 3,196), with a significant spike in August.\n",
        "\n",
        "Post-August Decline: After August, there is a substantial drop in cancellations, with September (around 1,611) seeing fewer cancellations than the preceding months.\n",
        "\n",
        "Customer Type Distribution:\n",
        "\n",
        "Transient Customers: This group consistently has the highest number of cancellations across all months, peaking in August. For instance, July has 3,023 cancellations, which is the highest among the customer types.\n",
        "\n",
        "Contract and Group Cancellations: These customer types show significantly lower cancellations compared to Transient customers. Contract and Group cancellations are almost negligible in comparison.\n",
        "\n",
        "Transient-Party: The number of cancellations for Transient-Party is relatively small but still notable. The highest cancellations for this group occur in July (173).\n",
        "\n",
        "Seasonal Peaks:\n",
        "\n",
        "Summer Months: The summer months (June to August) show a marked increase in cancellations, particularly for Transient customers, suggesting that summer vacation plans might be more prone to changes or cancellations.\n",
        "\n",
        "Stabilized End-of-Year: Towards the end of the year (October to December), cancellations stabilize and decrease, with December having the lowest at around 1,797.\n",
        "\n",
        "Comparison Across Customer Types:\n",
        "\n",
        "Dominance of Transient Cancellations: Across all months, Transient customers dominate the cancellation landscape, indicating that this segment is the most volatile.\n",
        "\n",
        "Minimal Contract and Group Cancellations: Contract and Group cancellations remain low throughout the year, suggesting more stable and less fluctuating booking patterns.\n",
        "\n",
        "Mid-Year Peaks:\n",
        "\n",
        "June and July: Both these months experience significant cancellations, around 2,253 and 3,196 respectively, highlighting mid-year volatility possibly related to summer travel.\n",
        "\n",
        "\n",
        "Seasonal Factors: The chart highlights clear seasonal patterns in cancellations, with peaks during summer months and a decline towards the end of the year.\n",
        "\n",
        "Customer Type Volatility: Transient customers show the highest volatility in cancellations, while Contract and Group bookings are more stable."
      ],
      "metadata": {
        "id": "uPQ8RGwHveiV"
      }
    },
    {
      "cell_type": "markdown",
      "source": [
        "## **5. Solution to Business Objective**"
      ],
      "metadata": {
        "id": "JcMwzZxoAimU"
      }
    },
    {
      "cell_type": "markdown",
      "source": [
        "#### What do you suggest the client to achieve Business Objective ?\n",
        "Explain Briefly."
      ],
      "metadata": {
        "id": "8G2x9gOozGDZ"
      }
    },
    {
      "cell_type": "markdown",
      "source": [
        "1. Cancellation Analysis by Hotel Type:\n",
        "\n",
        "City Hotels: Have a higher cancellation rate (41.73%) compared to Resort Hotels (27.76%).\n",
        "Recommendations:\n",
        "\n",
        "City Hotels: Focus on improving booking policies, such as offering flexible cancellation options, enhancing customer service, and providing better incentives for early bookings.\n",
        "\n",
        "Resort Hotels: Maintain current strategies but look for additional ways to enhance customer satisfaction and reduce cancellations further.\n",
        "\n",
        "2. Monthly Cancellation Trends:\n",
        "Peak Cancellation Months: April, June, September, and October have the highest cancellation rates, all above 38%.\n",
        "\n",
        "Recommendations:\n",
        "Targeted Promotions: During peak cancellation months, implement special promotions and discounts to encourage bookings.\n",
        "\n",
        "Flexible Policies: Offer flexible booking and cancellation policies during these months to reduce the likelihood of cancellations.\n",
        "\n",
        "3. Customer Type Cancellations:\n",
        "Transient Customers: Have the highest cancellation rate (40.75%), while Group customers have the lowest (10.23%).\n",
        "\n",
        "Recommendations:\n",
        "Transient Customers: Implement loyalty programs and provide personalized offers to encourage commitment.\n",
        "\n",
        "Group Customers: Promote group bookings by highlighting the stability and benefits of these reservations.\n",
        "\n",
        "4. Impact of Lead Time on Cancellations:\n",
        "Observation: Higher lead times are associated with higher cancellation densities, especially around 50-200 days.\n",
        "\n",
        "Recommendations:\n",
        "Optimize Lead Times: Focus marketing efforts on optimizing lead times to balance between booking lead time and cancellation likelihood.\n",
        "\n",
        "Early Bird Incentives: Offer early bird discounts to encourage bookings with moderate lead times that are less prone to cancellations.\n",
        "\n",
        "5. Special Requests and Cancellations:\n",
        "Observation: Bookings with no special requests have the highest cancellation rate (47.72%), while those with multiple requests have significantly lower rates.\n",
        "\n",
        "Recommendations:\n",
        "\n",
        "Encourage Special Requests: Promote the option to make special requests during booking to increase customer commitment.\n",
        "Enhance Request Handling: Ensure efficient and effective handling of special requests to improve customer satisfaction and reduce cancellations\n",
        "\n",
        "Additional Recommendations for Increasing Revenue:\n",
        "Dynamic Pricing:\n",
        "\n",
        "Implement dynamic pricing strategies to adjust room rates based on demand, seasonality, and booking patterns.\n",
        "Upselling and Cross-Selling:\n",
        "\n",
        "Promote additional services such as spa treatments, dining packages, and excursions to increase overall revenue per booking.\n",
        "Customer Loyalty Programs:\n",
        "\n",
        "Develop loyalty programs that reward repeat customers with discounts, upgrades, and other perks to foster customer retention.\n",
        "Marketing and Customer Engagement:\n",
        "\n",
        "Utilize data analytics to segment customers and tailor marketing campaigns. Engage customers through personalized communication and offers based on their booking behavior.\n",
        "Enhanced Online Presence:\n",
        "\n",
        "Improve the hotel's online presence by optimizing the website, utilizing social media marketing, and managing online reviews to attract more bookings.\n",
        "By implementing these strategies, hotels can not only reduce cancellations but also enhance overall revenue and customer satisfaction. ​"
      ],
      "metadata": {
        "id": "pASKb0qOza21"
      }
    },
    {
      "cell_type": "markdown",
      "source": [
        "# **Conclusion**"
      ],
      "metadata": {
        "id": "gCX9965dhzqZ"
      }
    },
    {
      "cell_type": "markdown",
      "source": [
        "The analysis of the hotel bookings dataset reveals that City Hotels face higher cancellation rates (41.73%) compared to Resort Hotels (27.76%). Cancellations peak in April, June, September, and October. Transient customers are the most likely to cancel (40.75%), whereas Group customers have the lowest cancellation rates (10.23%). Longer lead times (50-200 days) correlate with higher cancellations, and bookings with no special requests have the highest cancellation rates (47.72%).\n",
        "\n",
        "Recommendations:\n",
        "\n",
        "Implement flexible booking and cancellation policies.\n",
        "Focus on loyalty programs for transient customers.\n",
        "Use dynamic pricing and early bird discounts.\n",
        "Encourage special requests to increase booking commitment.\n",
        "These strategies can help reduce cancellations and increase revenue for both City and Resort Hotels.\n",
        "\n",
        "\n",
        "\n",
        "\n",
        "\n",
        "\n"
      ],
      "metadata": {
        "id": "Fjb1IsQkh3yE"
      }
    },
    {
      "cell_type": "markdown",
      "source": [
        "### ***Hurrah! You have successfully completed your EDA Capstone Project !!!***"
      ],
      "metadata": {
        "id": "gIfDvo9L0UH2"
      }
    }
  ]
}